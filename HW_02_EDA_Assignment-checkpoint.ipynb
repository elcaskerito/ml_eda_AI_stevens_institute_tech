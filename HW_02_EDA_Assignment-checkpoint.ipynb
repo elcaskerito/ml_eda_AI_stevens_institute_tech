{
 "cells": [
  {
   "cell_type": "markdown",
   "id": "263bcdc6",
   "metadata": {},
   "source": [
    "Assignment_HW_02_EDA_IdrisMahamat"
   ]
  },
  {
   "cell_type": "code",
   "execution_count": 1,
   "id": "d789c835",
   "metadata": {},
   "outputs": [
    {
     "ename": "ModuleNotFoundError",
     "evalue": "No module named 'matplotlib.pylot'",
     "output_type": "error",
     "traceback": [
      "\u001b[0;31m---------------------------------------------------------------------------\u001b[0m",
      "\u001b[0;31mModuleNotFoundError\u001b[0m                       Traceback (most recent call last)",
      "Cell \u001b[0;32mIn[1], line 2\u001b[0m\n\u001b[1;32m      1\u001b[0m \u001b[38;5;28;01mimport\u001b[39;00m \u001b[38;5;21;01mpandas\u001b[39;00m \u001b[38;5;28;01mas\u001b[39;00m \u001b[38;5;21;01mpd\u001b[39;00m\n\u001b[0;32m----> 2\u001b[0m \u001b[38;5;28;01mimport\u001b[39;00m \u001b[38;5;21;01mmatplotlib\u001b[39;00m\u001b[38;5;21;01m.\u001b[39;00m\u001b[38;5;21;01mpylot\u001b[39;00m \u001b[38;5;28;01mas\u001b[39;00m \u001b[38;5;21;01mpt\u001b[39;00m\n\u001b[1;32m      3\u001b[0m \u001b[38;5;28;01mimport\u001b[39;00m \u001b[38;5;21;01mseaborn\u001b[39;00m \u001b[38;5;28;01mas\u001b[39;00m \u001b[38;5;21;01mse\u001b[39;00m\n",
      "\u001b[0;31mModuleNotFoundError\u001b[0m: No module named 'matplotlib.pylot'"
     ]
    }
   ],
   "source": [
    "import pandas as pd\n",
    "import matplotlib.pyplot as pt\n",
    "import seaborn as se"
   ]
  },
  {
   "cell_type": "code",
   "execution_count": 10,
   "id": "d443cdd4",
   "metadata": {},
   "outputs": [
    {
     "name": "stdout",
     "output_type": "stream",
     "text": [
      "<class 'pandas.core.frame.DataFrame'>\n",
      "RangeIndex: 35 entries, 0 to 34\n",
      "Data columns (total 11 columns):\n",
      " #   Column  Non-Null Count  Dtype  \n",
      "---  ------  --------------  -----  \n",
      " 0   Sample  35 non-null     int64  \n",
      " 1   F1      35 non-null     int64  \n",
      " 2   F2      35 non-null     int64  \n",
      " 3   F3      35 non-null     int64  \n",
      " 4   F4      35 non-null     int64  \n",
      " 5   F5      35 non-null     int64  \n",
      " 6   F6      34 non-null     float64\n",
      " 7   F7      35 non-null     int64  \n",
      " 8   F8      35 non-null     int64  \n",
      " 9   F9      35 non-null     int64  \n",
      " 10  Class   35 non-null     int64  \n",
      "dtypes: float64(1), int64(10)\n",
      "memory usage: 3.1 KB\n",
      "None\n",
      "    Sample  F1  F2  F3  F4  F5    F6  F7  F8  F9  Class\n",
      "0  1198641  10  10   6   3   3  10.0   4   3   2      4\n",
      "1  1080233   7   6   6   3   2  10.0   7   1   1      4\n",
      "2   606140   1   1   1   1   2   NaN   2   1   1      2\n",
      "3   740492   1   1   1   1   2   1.0   3   1   1      2\n",
      "4  1120559   8   3   8   3   4   9.0   8   9   8      4\n"
     ]
    }
   ],
   "source": [
    "# 1- now let's load the dataset  breast-cancer-wisconsin_pfizer05.csv\n",
    "\n",
    "chemin_fichier = '/home/elcaskerito/Documents/Stevens Jupiter/breast-cancer-wisconsin_pfizer05.csv'\n",
    "df = pd.read_csv(chemin_fichier)\n",
    "\n",
    "print(df.info())\n",
    "print(df.head())\n"
   ]
  },
  {
   "cell_type": "code",
   "execution_count": 29,
   "id": "12511784",
   "metadata": {},
   "outputs": [
    {
     "name": "stdout",
     "output_type": "stream",
     "text": [
      "             Sample         F1         F2         F3         F4         F5  \\\n",
      "count  3.500000e+01  35.000000  35.000000  35.000000  35.000000  35.000000   \n",
      "mean   1.063904e+06   5.485714   4.000000   4.142857   2.942857   3.771429   \n",
      "std    2.728643e+05   3.211848   3.605551   3.573949   3.262468   2.755590   \n",
      "min    1.280590e+05   1.000000   1.000000   1.000000   1.000000   1.000000   \n",
      "25%    1.033582e+06   2.500000   1.000000   1.000000   1.000000   2.000000   \n",
      "50%    1.137156e+06   5.000000   2.000000   3.000000   1.000000   2.000000   \n",
      "75%    1.233062e+06   8.000000   7.000000   7.000000   3.000000   6.000000   \n",
      "max    1.369821e+06  10.000000  10.000000  10.000000  10.000000  10.000000   \n",
      "\n",
      "              F6         F7         F8         F9      Class  \n",
      "count  34.000000  35.000000  35.000000  35.000000  35.000000  \n",
      "mean    4.382353   3.942857   3.685714   2.714286   2.857143  \n",
      "std     3.915894   2.300164   3.668398   2.936298   1.004193  \n",
      "min     1.000000   1.000000   1.000000   1.000000   2.000000  \n",
      "25%     1.000000   2.000000   1.000000   1.000000   2.000000  \n",
      "50%     1.500000   3.000000   1.000000   1.000000   2.000000  \n",
      "75%     8.750000   5.000000   8.000000   3.000000   4.000000  \n",
      "max    10.000000  10.000000  10.000000  10.000000   4.000000  \n"
     ]
    }
   ],
   "source": [
    "# I. Summarize each column by min,max,mean\n",
    "\n",
    "detail = df.describe(include='all')\n",
    "print(detail)"
   ]
  },
  {
   "cell_type": "code",
   "execution_count": 14,
   "id": "7134c29a",
   "metadata": {},
   "outputs": [
    {
     "name": "stdout",
     "output_type": "stream",
     "text": [
      "Sample    0\n",
      "F1        0\n",
      "F2        0\n",
      "F3        0\n",
      "F4        0\n",
      "F5        0\n",
      "F6        1\n",
      "F7        0\n",
      "F8        0\n",
      "F9        0\n",
      "Class     0\n",
      "dtype: int64\n"
     ]
    }
   ],
   "source": [
    "# II. Identifying missing values\n",
    "\n",
    "ms_val = df.isnull().sum()\n",
    "print(ms_val)\n"
   ]
  },
  {
   "cell_type": "code",
   "execution_count": 40,
   "id": "fb00cb7d",
   "metadata": {},
   "outputs": [
    {
     "name": "stdout",
     "output_type": "stream",
     "text": [
      "Sample    0\n",
      "F1        0\n",
      "F2        0\n",
      "F3        0\n",
      "F4        0\n",
      "F5        0\n",
      "F6        0\n",
      "F7        0\n",
      "F8        0\n",
      "F9        0\n",
      "Class     0\n",
      "dtype: int64\n"
     ]
    },
    {
     "name": "stderr",
     "output_type": "stream",
     "text": [
      "/tmp/ipykernel_30482/660814534.py:3: FutureWarning: A value is trying to be set on a copy of a DataFrame or Series through chained assignment using an inplace method.\n",
      "The behavior will change in pandas 3.0. This inplace method will never work because the intermediate object on which we are setting values always behaves as a copy.\n",
      "\n",
      "For example, when doing 'df[col].method(value, inplace=True)', try using 'df.method({col: value}, inplace=True)' or df[col] = df[col].method(value) instead, to perform the operation inplace on the original object.\n",
      "\n",
      "\n",
      "  df['F6'].fillna(df['F6'].mean(),inplace=True)\n"
     ]
    }
   ],
   "source": [
    "# Replacing the missing values with the “mean” of the column.\n",
    "\n",
    "df['F6'].fillna(df['F6'].mean(),inplace=True)\n",
    "\n",
    "# let check the missing value again\n",
    "\n",
    "print(df.isnull().sum())"
   ]
  },
  {
   "cell_type": "code",
   "execution_count": 80,
   "id": "84bca058",
   "metadata": {},
   "outputs": [
    {
     "name": "stdout",
     "output_type": "stream",
     "text": [
      "Class       2  4\n",
      "F6              \n",
      "1.000000   17  0\n",
      "2.000000    1  0\n",
      "3.000000    0  1\n",
      "4.382353    1  0\n",
      "5.000000    1  2\n",
      "8.000000    0  3\n",
      "9.000000    0  2\n",
      "10.000000   0  7\n"
     ]
    }
   ],
   "source": [
    "# Displaying the frequency table of “Class” vs. F6 using groupby\n",
    "\n",
    "# freq_table = df.groupby(\"Class\")[\"F6\"].value_counts().unstack()\n",
    "\n",
    "# print(\"Frequency Table:\\n -------------- \\n\", freq_table,)\n",
    "\n",
    "# print(\"-------------------------------------------------\")\n",
    "\n",
    "# Displaying the frequency table of “Class” vs. F6 using crosstab \n",
    "ts = pd.crosstab(df[\"F6\"], df[\"Class\"])\n",
    "print(ts)\n",
    "\n",
    "# print(df.info())\n",
    "\n"
   ]
  },
  {
   "cell_type": "code",
   "execution_count": 82,
   "id": "06c239fd",
   "metadata": {},
   "outputs": [
    {
     "ename": "NameError",
     "evalue": "name 'pt' is not defined",
     "output_type": "error",
     "traceback": [
      "\u001b[0;31m---------------------------------------------------------------------------\u001b[0m",
      "\u001b[0;31mNameError\u001b[0m                                 Traceback (most recent call last)",
      "Cell \u001b[0;32mIn[82], line 7\u001b[0m\n\u001b[1;32m      5\u001b[0m \u001b[38;5;28;01mfor\u001b[39;00m i \u001b[38;5;129;01min\u001b[39;00m \u001b[38;5;28mrange\u001b[39m(\u001b[38;5;28mlen\u001b[39m(fn)):\n\u001b[1;32m      6\u001b[0m     \u001b[38;5;28;01mfor\u001b[39;00m j \u001b[38;5;129;01min\u001b[39;00m \u001b[38;5;28mrange\u001b[39m(i\u001b[38;5;241m+\u001b[39m\u001b[38;5;241m1\u001b[39m, \u001b[38;5;28mlen\u001b[39m(fn)):\n\u001b[0;32m----> 7\u001b[0m         \u001b[43mpt\u001b[49m\u001b[38;5;241m.\u001b[39mfigure(figsize\u001b[38;5;241m=\u001b[39m(\u001b[38;5;241m6\u001b[39m,\u001b[38;5;241m4\u001b[39m))\n\u001b[1;32m      8\u001b[0m         se\u001b[38;5;241m.\u001b[39mscatterplot(x\u001b[38;5;241m=\u001b[39mdf[fn[i]], y\u001b[38;5;241m=\u001b[39mdf[fn[j]])\n\u001b[1;32m      9\u001b[0m         pt\u001b[38;5;241m.\u001b[39mxlabel(fn[i])\n",
      "\u001b[0;31mNameError\u001b[0m: name 'pt' is not defined"
     ]
    }
   ],
   "source": [
    "# v. Displaying the scatter plot of F1 to F6, one pair at a time\n",
    "\n",
    "fn = ['F1', 'F2', 'F3', 'F4', 'F5', 'F6']\n",
    "\n",
    "for i in range(len(fn)):\n",
    "    for j in range(i+1, len(fn)):\n",
    "        pt.figure(figsize=(6,4))\n",
    "        se.scatterplot(x=df[fn[i]], y=df[fn[j]])\n",
    "        pt.xlabel(fn[i])\n",
    "        pt.ylabel(fn[j])\n",
    "        pt.title(f'Scatter Plot of {fn[i]} vs {fn[j]}')\n",
    "        pt.show()\n",
    "\n"
   ]
  },
  {
   "cell_type": "code",
   "execution_count": null,
   "id": "6cd8d2d8-6df8-4ade-bd33-eb63f7611eee",
   "metadata": {},
   "outputs": [],
   "source": []
  }
 ],
 "metadata": {
  "kernelspec": {
   "display_name": "Python 3 (ipykernel)",
   "language": "python",
   "name": "python3"
  },
  "language_info": {
   "codemirror_mode": {
    "name": "ipython",
    "version": 3
   },
   "file_extension": ".py",
   "mimetype": "text/x-python",
   "name": "python",
   "nbconvert_exporter": "python",
   "pygments_lexer": "ipython3",
   "version": "3.12.7"
  }
 },
 "nbformat": 4,
 "nbformat_minor": 5
}

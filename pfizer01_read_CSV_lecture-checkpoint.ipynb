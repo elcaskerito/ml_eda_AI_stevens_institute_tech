{
 "cells": [
  {
   "cell_type": "markdown",
   "id": "263bcdc6",
   "metadata": {},
   "source": [
    "  Lecture 1: creating Data frame\n",
    "  By:    K Dehnad"
   ]
  },
  {
   "cell_type": "code",
   "execution_count": 4,
   "id": "d789c835",
   "metadata": {},
   "outputs": [
    {
     "ename": "ModuleNotFoundError",
     "evalue": "No module named 'pandas'",
     "output_type": "error",
     "traceback": [
      "\u001b[0;31m---------------------------------------------------------------------------\u001b[0m",
      "\u001b[0;31mModuleNotFoundError\u001b[0m                       Traceback (most recent call last)",
      "Cell \u001b[0;32mIn[4], line 1\u001b[0m\n\u001b[0;32m----> 1\u001b[0m \u001b[38;5;28;01mimport\u001b[39;00m\u001b[38;5;250m \u001b[39m\u001b[38;5;21;01mpandas\u001b[39;00m\u001b[38;5;250m \u001b[39m\u001b[38;5;28;01mas\u001b[39;00m\u001b[38;5;250m \u001b[39m\u001b[38;5;21;01mpd\u001b[39;00m\n",
      "\u001b[0;31mModuleNotFoundError\u001b[0m: No module named 'pandas'"
     ]
    }
   ],
   "source": [
    "import pandas as pd"
   ]
  },
  {
   "cell_type": "code",
   "execution_count": null,
   "id": "d443cdd4",
   "metadata": {},
   "outputs": [],
   "source": [
    "df = pd.read_csv('C:/Users/kdehn/OneDrive - stevens.edu/___Data/CSV_files/breast-cancer-wisconsin.csv')\n",
    "\n",
    "df.head()\n",
    "df.tail( )\n"
   ]
  },
  {
   "cell_type": "code",
   "execution_count": null,
   "id": "7134c29a",
   "metadata": {},
   "outputs": [],
   "source": [
    "print(df.dtypes)\n",
    "df.isna().sum()"
   ]
  },
  {
   "cell_type": "code",
   "execution_count": null,
   "id": "fb00cb7d",
   "metadata": {},
   "outputs": [],
   "source": [
    " filename='C:/Users/kdehn/OneDrive - stevens.edu/___Data/CSV_files/breast-cancer-wisconsin.csv'\n",
    "\n",
    "nan_values=['?']\n",
    "att_type={'Sample': 'str', 'F6':'Int64' }\n",
    "\n",
    "df=pd.read_csv(filename,dtype=att_type,na_values=nan_values)\n",
    "df.head()\n",
    "df.tail( )\n",
    "df.dtypes"
   ]
  },
  {
   "cell_type": "markdown",
   "id": "677907e7",
   "metadata": {},
   "source": [
    "Generate a Python script to read a CSV file located at 'C:/Users/kdehn/OneDrive - stevens.edu/___Data/CSV_files/breast-cancer-wisconsin.csv'. The file contains missing values represented by '?', which should be handled appropriately. The script should ensure that all columns adhere to the specified data types in the following data dictionary ' Additionally, include functionality to check for and display missing values in the dataset.\n",
    "\n",
    "Sample     Int64\n",
    "F1         Int64\n",
    "F2         Int64\n",
    "F3         Int64\n",
    "F4         Int64\n",
    "F5         Int64\n",
    "F6         Int64\n",
    "F7         Int64\n",
    "F8         Int64\n",
    "F9         Int64\n",
    "Class      Int64"
   ]
  },
  {
   "cell_type": "code",
   "execution_count": null,
   "id": "84bca058",
   "metadata": {},
   "outputs": [],
   "source": [
    "import pandas as pd\n",
    "\n",
    "# File path\n",
    "file_path = \"C:/Users/kdehn/OneDrive - stevens.edu/___Data/CSV_files/breast-cancer-wisconsin.csv\"\n",
    "\n",
    "# Define column names and expected data types\n",
    "data_types = {\n",
    "    \"Sample\": \"Int64\",\n",
    "    \"F1\": \"Int64\",\n",
    "    \"F2\": \"Int64\",\n",
    "    \"F3\": \"Int64\",\n",
    "    \"F4\": \"Int64\",\n",
    "    \"F5\": \"Int64\",\n",
    "    \"F6\": \"Int64\",\n",
    "    \"F7\": \"Int64\",\n",
    "    \"F8\": \"Int64\",\n",
    "    \"F9\": \"Int64\",\n",
    "    \"Class\": \"Int64\"\n",
    "}\n",
    "\n",
    "# Read the CSV file, replacing '?' with NaN\n",
    "df = pd.read_csv(file_path, na_values=['?'])\n",
    "\n",
    "# Convert columns to specified data types\n",
    "df = df.astype(data_types)\n",
    "\n",
    "# Display missing values\n",
    "missing_values = df.isnull().sum()\n",
    "print(\"Missing values in each column:\")\n",
    "print(missing_values)\n",
    "\n",
    "# Display the first few rows to verify data loading\n",
    "print(\"\\nFirst few rows of the dataset:\")\n",
    "print(df.head())\n"
   ]
  },
  {
   "cell_type": "code",
   "execution_count": null,
   "id": "3c1b7acd",
   "metadata": {},
   "outputs": [],
   "source": [
    "# pip install pandas-profiling"
   ]
  },
  {
   "cell_type": "code",
   "execution_count": null,
   "id": "bc35551c",
   "metadata": {},
   "outputs": [],
   "source": [
    "# pip install pydantic-settings"
   ]
  },
  {
   "cell_type": "code",
   "execution_count": null,
   "id": "06c239fd",
   "metadata": {},
   "outputs": [],
   "source": [
    "# pip install ydata-profiling\n",
    "from ydata_profiling import ProfileReport"
   ]
  },
  {
   "cell_type": "code",
   "execution_count": null,
   "id": "79478775",
   "metadata": {},
   "outputs": [],
   "source": [
    "ProfileReport(df)"
   ]
  }
 ],
 "metadata": {
  "kernelspec": {
   "display_name": "Python 3 (ipykernel)",
   "language": "python",
   "name": "python3"
  },
  "language_info": {
   "codemirror_mode": {
    "name": "ipython",
    "version": 3
   },
   "file_extension": ".py",
   "mimetype": "text/x-python",
   "name": "python",
   "nbconvert_exporter": "python",
   "pygments_lexer": "ipython3",
   "version": "3.10.12"
  }
 },
 "nbformat": 4,
 "nbformat_minor": 5
}

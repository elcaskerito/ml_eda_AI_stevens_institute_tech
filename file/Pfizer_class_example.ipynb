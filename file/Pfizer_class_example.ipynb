{
 "cells": [
  {
   "cell_type": "code",
   "execution_count": null,
   "id": "4bc756e3",
   "metadata": {},
   "outputs": [
    {
     "name": "stdout",
     "output_type": "stream",
     "text": [
      "Python 3.10.9\n"
     ]
    }
   ],
   "source": [
    "!python --version"
   ]
  },
  {
   "cell_type": "code",
   "execution_count": 1,
   "id": "78500461",
   "metadata": {},
   "outputs": [],
   "source": [
    "# Example of a class and object in Python\n",
    "class Car:\n",
    "    def __init__(self, model, year, cylinder):\n",
    "        self.model = model\n",
    "        self.year = year\n",
    "        self.cylinder=cylinder\n",
    "    \n",
    "    def display_info(self):\n",
    "        print(f\"Car model: {self.model}, Year: {self.year}, cylinder:  {self.cylinder }\")\n",
    "        \n",
    "    def age_info(self,current_year=2025):\n",
    "        age=current_year-self.year\n",
    "        return age\n",
    "\n",
    "\n",
    "\n"
   ]
  },
  {
   "cell_type": "code",
   "execution_count": 7,
   "id": "41c15169",
   "metadata": {},
   "outputs": [
    {
     "name": "stdout",
     "output_type": "stream",
     "text": [
      "Car model: Toyota, Year: 2020, cylinder:  6\n",
      "6\n",
      "5\n"
     ]
    }
   ],
   "source": [
    "# Creating an object of the Car class\n",
    "my_car = Car(\"Toyota\", 2020, 6)\n",
    "my_car.display_info()   # Output: Car model: Toyota, Year: 2021\n",
    "print(my_car.cylinder)\n",
    "print(my_car.age_info())"
   ]
  }
 ],
 "metadata": {
  "kernelspec": {
   "display_name": "Python 3 (ipykernel)",
   "language": "python",
   "name": "python3"
  },
  "language_info": {
   "codemirror_mode": {
    "name": "ipython",
    "version": 3
   },
   "file_extension": ".py",
   "mimetype": "text/x-python",
   "name": "python",
   "nbconvert_exporter": "python",
   "pygments_lexer": "ipython3",
   "version": "3.10.12"
  }
 },
 "nbformat": 4,
 "nbformat_minor": 5
}

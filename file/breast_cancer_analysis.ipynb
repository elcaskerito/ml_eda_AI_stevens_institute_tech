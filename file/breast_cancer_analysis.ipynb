{
 "cells": [
  {
   "cell_type": "code",
   "execution_count": null,
   "id": "17c66599",
   "metadata": {},
   "outputs": [],
   "source": [
    "# Import necessary libraries\n",
    "import pandas as pd\n",
    "\n",
    "# Load the dataset\n",
    "file_path = \"/home/elcaskerito/Documents/Stevens/ml_eda_AI_stevens_institute_tech/file/HW_03_knn_BC_pfizer.csv\"\n",
    "data = pd.read_csv(file_path)\n",
    "\n",
    "# Display the first few rows to understand its structure\n",
    "data.head()"
   ]
  },
  {
   "cell_type": "code",
   "execution_count": null,
   "id": "a38c2c5a",
   "metadata": {},
   "outputs": [],
   "source": [
    "# Split the dataset into training and test sets\n",
    "test_set = data.iloc[5::6]  # Every 6th record starting from row 6\n",
    "train_set = data.drop(test_set.index)  # Remaining records for training\n",
    "\n",
    "# Separate features and labels\n",
    "X_train = train_set.iloc[:, 2:6]  # Features (F1 to F4)\n",
    "y_train = train_set['Class']\n",
    "\n",
    "X_test = test_set.iloc[:, 2:6]  # Features (F1 to F4)\n",
    "y_test = test_set['Class']\n",
    "\n",
    "# Display the size of the training and test sets\n",
    "X_train.shape, X_test.shape"
   ]
  },
  {
   "cell_type": "code",
   "execution_count": null,
   "id": "6ae24326",
   "metadata": {},
   "outputs": [],
   "source": [
    "# Import necessary libraries for KNN and accuracy measurement\n",
    "from sklearn.neighbors import KNeighborsClassifier\n",
    "from sklearn.metrics import accuracy_score\n",
    "\n",
    "# Initialize results dictionary\n",
    "results = {}\n",
    "\n",
    "# Perform KNN classification for K = 1, 2, 3 (both weighted and unweighted)\n",
    "for k in [1, 2, 3]:\n",
    "    # Unweighted KNN\n",
    "    knn_unweighted = KNeighborsClassifier(n_neighbors=k, weights='uniform', metric='euclidean')\n",
    "    knn_unweighted.fit(X_train, y_train)\n",
    "    y_pred_unweighted = knn_unweighted.predict(X_test)\n",
    "    acc_unweighted = accuracy_score(y_test, y_pred_unweighted)\n",
    "\n",
    "    # Weighted KNN\n",
    "    knn_weighted = KNeighborsClassifier(n_neighbors=k, weights='distance', metric='euclidean')\n",
    "    knn_weighted.fit(X_train, y_train)\n",
    "    y_pred_weighted = knn_weighted.predict(X_test)\n",
    "    acc_weighted = accuracy_score(y_test, y_pred_weighted)\n",
    "\n",
    "    # Store results\n",
    "    results[k] = {\n",
    "        'Unweighted Accuracy': acc_unweighted,\n",
    "        'Weighted Accuracy': acc_weighted\n",
    "    }\n",
    "\n",
    "# Display results\n",
    "results"
   ]
  }
 ],
 "metadata": {
  "language_info": {
   "name": "python"
  }
 },
 "nbformat": 4,
 "nbformat_minor": 5
}

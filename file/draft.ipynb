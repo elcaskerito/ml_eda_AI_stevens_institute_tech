# Import necessary libraries
import pandas as pd

# Load the dataset
file_path = "/home/elcaskerito/Documents/Stevens/ml_eda_AI_stevens_institute_tech/file/HW_03_knn_BC_pfizer.csv"
data = pd.read_csv(file_path)

# Display the first few rows to understand its structure
data.head()

# Split the dataset into training and test sets

test_set = data.iloc[5::6]  # Every 6th record starting from row 6
train_set = data.drop(test_set.index)  # Remaining records for training

# Separate features and labels
X_train = train_set.iloc[:, 2:6]  # Features (F1 to F4)
y_train = train_set['Class']

X_test = test_set.iloc[:, 2:6]  # Features (F1 to F4)
y_test = test_set['Class']

# Display the size of the training and test sets
X_train.shape, X_test.shape

# Import necessary libraries for KNN and accuracy measurement
from sklearn.neighbors import KNeighborsClassifier
from sklearn.metrics import accuracy_score

# Initialize results dictionary
results = {}

# Perform KNN classification for K = 1, 2, 3 (both weighted and unweighted)
for k in [1, 2, 3]:
    # Unweighted KNN
    knn_unweighted = KNeighborsClassifier(n_neighbors=k, weights='uniform', metric='euclidean')
    knn_unweighted.fit(X_train, y_train)
    y_pred_unweighted = knn_unweighted.predict(X_test)
    acc_unweighted = accuracy_score(y_test, y_pred_unweighted)

    # Weighted KNN
    knn_weighted = KNeighborsClassifier(n_neighbors=k, weights='distance', metric='euclidean')
    knn_weighted.fit(X_train, y_train)
    y_pred_weighted = knn_weighted.predict(X_test)
    acc_weighted = accuracy_score(y_test, y_pred_weighted)

    # Store results
    results[k] = {
        'Unweighted Accuracy': acc_unweighted,
        'Weighted Accuracy': acc_weighted
    }

# Display results
results

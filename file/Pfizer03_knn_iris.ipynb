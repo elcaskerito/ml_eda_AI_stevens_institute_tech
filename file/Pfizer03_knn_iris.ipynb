{
 "cells": [
  {
   "cell_type": "code",
   "execution_count": 1,
   "id": "00b95d4a",
   "metadata": {},
   "outputs": [],
   "source": [
    "import numpy as np\n",
    "import pandas as pd\n",
    "from sklearn.model_selection import train_test_split\n",
    "from sklearn.neighbors import KNeighborsClassifier"
   ]
  },
  {
   "cell_type": "markdown",
   "id": "62372699",
   "metadata": {},
   "source": [
    "Data dictionary\n",
    "Species        category\n",
    "SepalLength       Int64\n",
    "SepalWidth        Int64\n",
    "PetalLength       Int64\n",
    "PetalWidth        Int64"
   ]
  },
  {
   "cell_type": "code",
   "execution_count": 2,
   "id": "6dfc010b",
   "metadata": {},
   "outputs": [
    {
     "name": "stdout",
     "output_type": "stream",
     "text": [
      "       SepalLength  SepalWidth  PetalLength  PetalWidth\n",
      "count        150.0       150.0        150.0       150.0\n",
      "mean     58.433333   30.573333        37.58   11.993333\n",
      "std       8.280661    4.358663    17.652982    7.622377\n",
      "min           43.0        20.0         10.0         1.0\n",
      "25%           51.0        28.0         16.0         3.0\n",
      "50%           58.0        30.0         43.5        13.0\n",
      "75%           64.0        33.0         51.0        18.0\n",
      "max           79.0        44.0         69.0        25.0\n"
     ]
    },
    {
     "data": {
      "text/html": [
       "<div>\n",
       "<style scoped>\n",
       "    .dataframe tbody tr th:only-of-type {\n",
       "        vertical-align: middle;\n",
       "    }\n",
       "\n",
       "    .dataframe tbody tr th {\n",
       "        vertical-align: top;\n",
       "    }\n",
       "\n",
       "    .dataframe thead th {\n",
       "        text-align: right;\n",
       "    }\n",
       "</style>\n",
       "<table border=\"1\" class=\"dataframe\">\n",
       "  <thead>\n",
       "    <tr style=\"text-align: right;\">\n",
       "      <th></th>\n",
       "      <th>Species</th>\n",
       "      <th>SepalLength</th>\n",
       "      <th>SepalWidth</th>\n",
       "      <th>PetalLength</th>\n",
       "      <th>PetalWidth</th>\n",
       "    </tr>\n",
       "  </thead>\n",
       "  <tbody>\n",
       "    <tr>\n",
       "      <th>0</th>\n",
       "      <td>Setosa</td>\n",
       "      <td>50</td>\n",
       "      <td>33</td>\n",
       "      <td>14</td>\n",
       "      <td>2</td>\n",
       "    </tr>\n",
       "    <tr>\n",
       "      <th>1</th>\n",
       "      <td>Setosa</td>\n",
       "      <td>46</td>\n",
       "      <td>34</td>\n",
       "      <td>14</td>\n",
       "      <td>3</td>\n",
       "    </tr>\n",
       "    <tr>\n",
       "      <th>2</th>\n",
       "      <td>Setosa</td>\n",
       "      <td>46</td>\n",
       "      <td>36</td>\n",
       "      <td>10</td>\n",
       "      <td>2</td>\n",
       "    </tr>\n",
       "    <tr>\n",
       "      <th>3</th>\n",
       "      <td>Setosa</td>\n",
       "      <td>51</td>\n",
       "      <td>33</td>\n",
       "      <td>17</td>\n",
       "      <td>5</td>\n",
       "    </tr>\n",
       "    <tr>\n",
       "      <th>4</th>\n",
       "      <td>Setosa</td>\n",
       "      <td>55</td>\n",
       "      <td>35</td>\n",
       "      <td>13</td>\n",
       "      <td>2</td>\n",
       "    </tr>\n",
       "    <tr>\n",
       "      <th>5</th>\n",
       "      <td>Setosa</td>\n",
       "      <td>48</td>\n",
       "      <td>31</td>\n",
       "      <td>16</td>\n",
       "      <td>2</td>\n",
       "    </tr>\n",
       "    <tr>\n",
       "      <th>6</th>\n",
       "      <td>Setosa</td>\n",
       "      <td>52</td>\n",
       "      <td>34</td>\n",
       "      <td>14</td>\n",
       "      <td>2</td>\n",
       "    </tr>\n",
       "    <tr>\n",
       "      <th>7</th>\n",
       "      <td>Setosa</td>\n",
       "      <td>49</td>\n",
       "      <td>36</td>\n",
       "      <td>14</td>\n",
       "      <td>1</td>\n",
       "    </tr>\n",
       "    <tr>\n",
       "      <th>8</th>\n",
       "      <td>Setosa</td>\n",
       "      <td>44</td>\n",
       "      <td>32</td>\n",
       "      <td>13</td>\n",
       "      <td>2</td>\n",
       "    </tr>\n",
       "    <tr>\n",
       "      <th>9</th>\n",
       "      <td>Setosa</td>\n",
       "      <td>50</td>\n",
       "      <td>35</td>\n",
       "      <td>16</td>\n",
       "      <td>6</td>\n",
       "    </tr>\n",
       "  </tbody>\n",
       "</table>\n",
       "</div>"
      ],
      "text/plain": [
       "  Species  SepalLength  SepalWidth  PetalLength  PetalWidth\n",
       "0  Setosa           50          33           14           2\n",
       "1  Setosa           46          34           14           3\n",
       "2  Setosa           46          36           10           2\n",
       "3  Setosa           51          33           17           5\n",
       "4  Setosa           55          35           13           2\n",
       "5  Setosa           48          31           16           2\n",
       "6  Setosa           52          34           14           2\n",
       "7  Setosa           49          36           14           1\n",
       "8  Setosa           44          32           13           2\n",
       "9  Setosa           50          35           16           6"
      ]
     },
     "execution_count": 2,
     "metadata": {},
     "output_type": "execute_result"
    }
   ],
   "source": [
    "data_types = {\n",
    "    'Species':     'category',\n",
    "    'SepalLength': 'Int64',\n",
    "    'SepalWidth':  'Int64',\n",
    "    'PetalLength': 'Int64',\n",
    "    'PetalWidth':  'Int64'\n",
    "}\n",
    "\n",
    "file_path='/home/elcaskerito/Documents/Stevens/ml_eda_AI_stevens_institute_tech/file/'+'iris.csv'\n",
    "\n",
    "# # Read CSV file with appropriate handling of missing values\n",
    "df = pd.read_csv(file_path, na_values='?',dtype=data_types)\n",
    "\n",
    "## Loading iris\n",
    "# df = pd.read_csv('C:/Users/kdehn/OneDrive - stevens.edu/___Data/CSV_files/iris.csv',)\n",
    "\n",
    "print(df.describe())\n",
    "# #data preprocessing\n",
    "## df['Species'] = pd.Categorical(df['Species'])  # convert Species column to categorical data type if needed\n",
    "df.head(10)"
   ]
  },
  {
   "cell_type": "code",
   "execution_count": 3,
   "id": "bdccdf77",
   "metadata": {},
   "outputs": [
    {
     "data": {
      "text/plain": [
       "Species        category\n",
       "SepalLength       Int64\n",
       "SepalWidth        Int64\n",
       "PetalLength       Int64\n",
       "PetalWidth        Int64\n",
       "dtype: object"
      ]
     },
     "execution_count": 3,
     "metadata": {},
     "output_type": "execute_result"
    }
   ],
   "source": [
    "df.dtypes"
   ]
  },
  {
   "cell_type": "code",
   "execution_count": 8,
   "id": "febbdef8",
   "metadata": {},
   "outputs": [
    {
     "name": "stdout",
     "output_type": "stream",
     "text": [
      "Empty DataFrame\n",
      "Columns: [Species, SepalLength, SepalWidth, PetalLength, PetalWidth]\n",
      "Index: []\n",
      "-----------------------\n"
     ]
    },
    {
     "data": {
      "text/plain": [
       "0    Setosa\n",
       "1    Setosa\n",
       "2    Setosa\n",
       "3    Setosa\n",
       "4    Setosa\n",
       "Name: Species, dtype: category\n",
       "Categories (3, object): ['Setosa', 'Versicolor', 'Virginica']"
      ]
     },
     "execution_count": 8,
     "metadata": {},
     "output_type": "execute_result"
    }
   ],
   "source": [
    "df = df.dropna() # drops NaN values \n",
    "print(df[df.isna().any(axis=1)]) # shows NaN values in data frame if it exists\n",
    "\n",
    "# Splitting the dataset\n",
    "attr = df.drop(columns = ['Species'])  # features\n",
    "target = df['Species']  # target variable\n",
    "attr.head(10)\n",
    "print('-----------------------')\n",
    "target.head()"
   ]
  },
  {
   "cell_type": "code",
   "execution_count": 6,
   "id": "e37b6e3e",
   "metadata": {},
   "outputs": [
    {
     "data": {
      "text/html": [
       "<div>\n",
       "<style scoped>\n",
       "    .dataframe tbody tr th:only-of-type {\n",
       "        vertical-align: middle;\n",
       "    }\n",
       "\n",
       "    .dataframe tbody tr th {\n",
       "        vertical-align: top;\n",
       "    }\n",
       "\n",
       "    .dataframe thead th {\n",
       "        text-align: right;\n",
       "    }\n",
       "</style>\n",
       "<table border=\"1\" class=\"dataframe\">\n",
       "  <thead>\n",
       "    <tr style=\"text-align: right;\">\n",
       "      <th></th>\n",
       "      <th>SepalLength</th>\n",
       "      <th>SepalWidth</th>\n",
       "      <th>PetalLength</th>\n",
       "      <th>PetalWidth</th>\n",
       "    </tr>\n",
       "  </thead>\n",
       "  <tbody>\n",
       "    <tr>\n",
       "      <th>0</th>\n",
       "      <td>0.194444</td>\n",
       "      <td>0.541667</td>\n",
       "      <td>0.067797</td>\n",
       "      <td>0.041667</td>\n",
       "    </tr>\n",
       "    <tr>\n",
       "      <th>1</th>\n",
       "      <td>0.083333</td>\n",
       "      <td>0.583333</td>\n",
       "      <td>0.067797</td>\n",
       "      <td>0.083333</td>\n",
       "    </tr>\n",
       "    <tr>\n",
       "      <th>2</th>\n",
       "      <td>0.083333</td>\n",
       "      <td>0.666667</td>\n",
       "      <td>0.000000</td>\n",
       "      <td>0.041667</td>\n",
       "    </tr>\n",
       "    <tr>\n",
       "      <th>3</th>\n",
       "      <td>0.222222</td>\n",
       "      <td>0.541667</td>\n",
       "      <td>0.118644</td>\n",
       "      <td>0.166667</td>\n",
       "    </tr>\n",
       "    <tr>\n",
       "      <th>4</th>\n",
       "      <td>0.333333</td>\n",
       "      <td>0.625000</td>\n",
       "      <td>0.050847</td>\n",
       "      <td>0.041667</td>\n",
       "    </tr>\n",
       "  </tbody>\n",
       "</table>\n",
       "</div>"
      ],
      "text/plain": [
       "   SepalLength  SepalWidth  PetalLength  PetalWidth\n",
       "0     0.194444    0.541667     0.067797    0.041667\n",
       "1     0.083333    0.583333     0.067797    0.083333\n",
       "2     0.083333    0.666667     0.000000    0.041667\n",
       "3     0.222222    0.541667     0.118644    0.166667\n",
       "4     0.333333    0.625000     0.050847    0.041667"
      ]
     },
     "execution_count": 6,
     "metadata": {},
     "output_type": "execute_result"
    }
   ],
   "source": [
    "from sklearn.preprocessing import MinMaxScaler\n",
    "# Initialize MinMaxScaler\n",
    "scaler = MinMaxScaler()\n",
    "# Fit and transform the data\n",
    "attr = pd.DataFrame(scaler.fit_transform(attr), columns=attr.columns)\n",
    "attr.head()"
   ]
  },
  {
   "cell_type": "code",
   "execution_count": null,
   "id": "1e7efc59",
   "metadata": {},
   "outputs": [
    {
     "data": {
      "text/plain": [
       "count         38\n",
       "unique         3\n",
       "top       Setosa\n",
       "freq          13\n",
       "Name: Species, dtype: object"
      ]
     },
     "execution_count": 16,
     "metadata": {},
     "output_type": "execute_result"
    }
   ],
   "source": [
    "\n",
    "attr_train, attr_test, target_train,target_test  = train_test_split(attr, target,test_size = 0.25, random_state = 55, shuffle = True)\n",
    "# target_train.head()\n",
    "# attr_train.head()\n",
    "# target_test.head()\n"
   ]
  },
  {
   "cell_type": "code",
   "execution_count": 11,
   "id": "9b4a2ffb",
   "metadata": {},
   "outputs": [
    {
     "name": "stdout",
     "output_type": "stream",
     "text": [
      "Accuracy of model with k = 1: 0.9736842105263158\n",
      "\n",
      "Accuracy of model with k = 3: 0.9736842105263158\n",
      "\n",
      "Accuracy of model with k = 5: 0.9736842105263158\n",
      "\n",
      "Accuracy of model with k = 10: 1.0\n",
      "\n"
     ]
    }
   ],
   "source": [
    "# from sklearn.neighbors import KNeighborsClassifier\n",
    "from sklearn.metrics import accuracy_score\n",
    "k_values = [1,3, 5, 10]\n",
    "\n",
    "# for i in range(1,20):\n",
    "#     print(i)\n",
    " \n",
    "for k in k_values:\n",
    "    knn = KNeighborsClassifier(n_neighbors = k)\n",
    "#     knn = KNeighborsClassifier(n_neighbors = k,weights='distance')\n",
    "    knn.fit(attr_train, target_train)\n",
    "    target_pred = knn.predict(attr_test)\n",
    "#     accuracy = round(np.mean(target_test==target_pred ) * 100, 2)\n",
    "    accuracy = accuracy_score(target_test,target_pred ) \n",
    "    print(f'Accuracy of model with k = {k}: {accuracy}')\n",
    "    print('')"
   ]
  },
  {
   "cell_type": "code",
   "execution_count": 9,
   "id": "53c17f10",
   "metadata": {},
   "outputs": [
    {
     "name": "stdout",
     "output_type": "stream",
     "text": [
      "Confusion Matrix\n",
      "[[13  0  0]\n",
      " [ 0 12  0]\n",
      " [ 0  1 12]]\n",
      "\n",
      "Accuracy score\n",
      "0.9736842105263158\n",
      "\n",
      "Classification Report\n",
      "              precision    recall  f1-score   support\n",
      "\n",
      "      Setosa       1.00      1.00      1.00        13\n",
      "  Versicolor       0.92      1.00      0.96        12\n",
      "   Virginica       1.00      0.92      0.96        13\n",
      "\n",
      "    accuracy                           0.97        38\n",
      "   macro avg       0.97      0.97      0.97        38\n",
      "weighted avg       0.98      0.97      0.97        38\n",
      "\n"
     ]
    }
   ],
   "source": [
    "from sklearn.metrics import accuracy_score\n",
    "from sklearn.metrics import classification_report\n",
    "from sklearn.metrics import confusion_matrix\n",
    "\n",
    "cm=confusion_matrix(target_test, target_pred)\n",
    "\n",
    "print('Confusion Matrix')\n",
    "print(confusion_matrix(target_test, target_pred))\n",
    "print()\n",
    "print('Accuracy score')\n",
    "print(accuracy_score(target_test, target_pred))\n",
    "print()\n",
    "print('Classification Report')\n",
    "print(classification_report(target_test, target_pred))\n"
   ]
  },
  {
   "cell_type": "code",
   "execution_count": 17,
   "id": "73b120ca",
   "metadata": {},
   "outputs": [
    {
     "data": {
      "text/html": [
       "<div>\n",
       "<style scoped>\n",
       "    .dataframe tbody tr th:only-of-type {\n",
       "        vertical-align: middle;\n",
       "    }\n",
       "\n",
       "    .dataframe tbody tr th {\n",
       "        vertical-align: top;\n",
       "    }\n",
       "\n",
       "    .dataframe thead th {\n",
       "        text-align: right;\n",
       "    }\n",
       "</style>\n",
       "<table border=\"1\" class=\"dataframe\">\n",
       "  <thead>\n",
       "    <tr style=\"text-align: right;\">\n",
       "      <th></th>\n",
       "      <th>SepalLength</th>\n",
       "      <th>SepalWidth</th>\n",
       "      <th>PetalLength</th>\n",
       "      <th>PetalWidth</th>\n",
       "      <th>target_pred</th>\n",
       "      <th>target_test</th>\n",
       "      <th>target_actual</th>\n",
       "      <th>test_actual</th>\n",
       "    </tr>\n",
       "  </thead>\n",
       "  <tbody>\n",
       "    <tr>\n",
       "      <th>9</th>\n",
       "      <td>0.194444</td>\n",
       "      <td>0.625000</td>\n",
       "      <td>0.101695</td>\n",
       "      <td>0.208333</td>\n",
       "      <td>Setosa</td>\n",
       "      <td>Setosa</td>\n",
       "      <td>Setosa</td>\n",
       "      <td>Setosa</td>\n",
       "    </tr>\n",
       "    <tr>\n",
       "      <th>36</th>\n",
       "      <td>0.194444</td>\n",
       "      <td>0.625000</td>\n",
       "      <td>0.050847</td>\n",
       "      <td>0.083333</td>\n",
       "      <td>Setosa</td>\n",
       "      <td>Setosa</td>\n",
       "      <td>Setosa</td>\n",
       "      <td>Setosa</td>\n",
       "    </tr>\n",
       "    <tr>\n",
       "      <th>8</th>\n",
       "      <td>0.027778</td>\n",
       "      <td>0.500000</td>\n",
       "      <td>0.050847</td>\n",
       "      <td>0.041667</td>\n",
       "      <td>Setosa</td>\n",
       "      <td>Setosa</td>\n",
       "      <td>Setosa</td>\n",
       "      <td>Setosa</td>\n",
       "    </tr>\n",
       "    <tr>\n",
       "      <th>137</th>\n",
       "      <td>0.861111</td>\n",
       "      <td>0.333333</td>\n",
       "      <td>0.864407</td>\n",
       "      <td>0.750000</td>\n",
       "      <td>Virginica</td>\n",
       "      <td>Virginica</td>\n",
       "      <td>Virginica</td>\n",
       "      <td>Virginica</td>\n",
       "    </tr>\n",
       "    <tr>\n",
       "      <th>136</th>\n",
       "      <td>0.722222</td>\n",
       "      <td>0.500000</td>\n",
       "      <td>0.796610</td>\n",
       "      <td>0.916667</td>\n",
       "      <td>Virginica</td>\n",
       "      <td>Virginica</td>\n",
       "      <td>Virginica</td>\n",
       "      <td>Virginica</td>\n",
       "    </tr>\n",
       "  </tbody>\n",
       "</table>\n",
       "</div>"
      ],
      "text/plain": [
       "     SepalLength  SepalWidth  PetalLength  PetalWidth target_pred target_test  \\\n",
       "9       0.194444    0.625000     0.101695    0.208333      Setosa      Setosa   \n",
       "36      0.194444    0.625000     0.050847    0.083333      Setosa      Setosa   \n",
       "8       0.027778    0.500000     0.050847    0.041667      Setosa      Setosa   \n",
       "137     0.861111    0.333333     0.864407    0.750000   Virginica   Virginica   \n",
       "136     0.722222    0.500000     0.796610    0.916667   Virginica   Virginica   \n",
       "\n",
       "    target_actual test_actual  \n",
       "9          Setosa      Setosa  \n",
       "36         Setosa      Setosa  \n",
       "8          Setosa      Setosa  \n",
       "137     Virginica   Virginica  \n",
       "136     Virginica   Virginica  "
      ]
     },
     "execution_count": 17,
     "metadata": {},
     "output_type": "execute_result"
    }
   ],
   "source": [
    "# target_pred.head()\n",
    "test_actual=attr_test\n",
    "test_actual['target_pred']=target_pred\n",
    "test_actual['test_actual']=target_test\n",
    "test_actual.head()\n"
   ]
  },
  {
   "cell_type": "code",
   "execution_count": 18,
   "id": "a076de58",
   "metadata": {},
   "outputs": [
    {
     "name": "stdout",
     "output_type": "stream",
     "text": [
      "target_pred  Setosa  Versicolor  Virginica\n",
      "test_actual                               \n",
      "Setosa           13           0          0\n",
      "Versicolor        0          12          0\n",
      "Virginica         0           1         12\n"
     ]
    }
   ],
   "source": [
    "#IV.\tDisplaying the frequency table of “PetalLength” vs. Species\n",
    "\n",
    "freq_table =pd.crosstab( test_actual['test_actual'], test_actual['target_pred'])\n",
    "print(\"Confusion Matrix\")\n",
    "print(freq_table)"
   ]
  },
  {
   "cell_type": "markdown",
   "id": "0276308c",
   "metadata": {},
   "source": [
    "## Stop here. We do not use the code below"
   ]
  },
  {
   "cell_type": "code",
   "execution_count": null,
   "id": "2e177322",
   "metadata": {},
   "outputs": [],
   "source": [
    "from sklearn.datasets import load_iris\n",
    "iris_data = load_iris()\n",
    "type(iris_data)"
   ]
  },
  {
   "cell_type": "code",
   "execution_count": null,
   "id": "6ca2ab63",
   "metadata": {},
   "outputs": [],
   "source": [
    "  \n",
    "# # IMPORT THE IRIS DATA FROM THE \n",
    "# # SKLEARN MODULE\n",
    "# from sklearn.datasets import load_iris\n",
    "  \n",
    "# # LOAD THE IRIS DATASET BY CALLING\n",
    "# # THE FUNCTION\n",
    "# iris_data = load_iris()\n",
    " \n",
    "  \n",
    "# # PLACE THE IRIS DATA IN A PANDAS\n",
    "# # DATAFRAME\n",
    "# attr = pd.DataFrame(data=iris_data.data, \n",
    "#                   columns=iris_data.feature_names)\n",
    "# target =pd.DataFrame({'Species': iris_data.target})\n",
    "\n",
    "# # DISPLAY FIRST 5 RECORDS OF THE \n",
    "# # DATAFRAME\n",
    "# target.head()\n",
    "# attr.head(10)"
   ]
  }
 ],
 "metadata": {
  "kernelspec": {
   "display_name": "base",
   "language": "python",
   "name": "python3"
  },
  "language_info": {
   "codemirror_mode": {
    "name": "ipython",
    "version": 3
   },
   "file_extension": ".py",
   "mimetype": "text/x-python",
   "name": "python",
   "nbconvert_exporter": "python",
   "pygments_lexer": "ipython3",
   "version": "3.11.5"
  }
 },
 "nbformat": 4,
 "nbformat_minor": 5
}

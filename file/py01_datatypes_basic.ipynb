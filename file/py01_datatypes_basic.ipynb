{
 "cells": [
  {
   "cell_type": "markdown",
   "id": "bc303d94",
   "metadata": {},
   "source": [
    "Pyhon basic data types \n",
    "Numeric:\t  int, float, complex              holds numeric values\n",
    "String: \t  str\t                           holds sequence of characters\n",
    "Sequence:     list, tuple      \t               holds collection of items\n",
    "Mapping:      dict\t                           holds data in key-value pair form\n",
    "Set:          set           \t               hold collection of unique items\n",
    "Boolean:      bool\t                           holds either True or False\n",
    "None          NoneType                         Holdes unknown"
   ]
  },
  {
   "cell_type": "code",
   "execution_count": null,
   "id": "a7c66298",
   "metadata": {},
   "outputs": [],
   "source": [
    "###Int:\n",
    "x = 10\n",
    "print(x)\n",
    "type(x) \n"
   ]
  },
  {
   "cell_type": "code",
   "execution_count": null,
   "id": "bf060014",
   "metadata": {},
   "outputs": [],
   "source": [
    "##float:\n",
    "y = 3.14\n",
    "print(y)\n",
    "type(y)"
   ]
  },
  {
   "cell_type": "code",
   "execution_count": null,
   "id": "51624dfe",
   "metadata": {},
   "outputs": [],
   "source": [
    "###complex:\n",
    "z = 1 + 2j\n",
    "print(z)\n",
    "type(z)"
   ]
  },
  {
   "cell_type": "code",
   "execution_count": null,
   "id": "b1afcc1f",
   "metadata": {},
   "outputs": [],
   "source": [
    "##str:\n",
    "name = \"Alice\"\n",
    "print(name)\n",
    "type(name)"
   ]
  },
  {
   "cell_type": "code",
   "execution_count": 16,
   "id": "a4f21346",
   "metadata": {},
   "outputs": [
    {
     "name": "stdout",
     "output_type": "stream",
     "text": [
      "['peach', 'banana', 'cherry']\n"
     ]
    }
   ],
   "source": [
    "###list:\n",
    "fruits = ['apple', 'banana', \"cherry\"]\n",
    "# print(fruits) \n",
    "quantities =[1,3,2]\n",
    "# print(quantities)\n",
    "fruits_quantities =[fruits, quantities,\"my name\",3,fruits]\n",
    "# print(fruits_quantities)\n",
    "type(fruits_quantities)\n",
    "fruits[0]=\"peach\"\n",
    "print(fruits)"
   ]
  },
  {
   "cell_type": "code",
   "execution_count": 21,
   "id": "34c07d90",
   "metadata": {},
   "outputs": [
    {
     "name": "stdout",
     "output_type": "stream",
     "text": [
      "(10.0, 20.0)\n",
      "<class 'tuple'>\n",
      "10.0\n"
     ]
    }
   ],
   "source": [
    "###tuple:\n",
    "coordinates = (10.0, 20.0)\n",
    "print(coordinates)\n",
    "print(type(coordinates))\n",
    "# coordinates[0]=9.0 ### generates error\n",
    "# print(coordinates)\n",
    "coordinate0,coordinate1= coordinates\n",
    "print(coordinate0)"
   ]
  },
  {
   "cell_type": "code",
   "execution_count": null,
   "id": "c6cf93bb",
   "metadata": {},
   "outputs": [],
   "source": [
    "### dictionary:\n",
    "person = {\"name\": \"John\", \"age\": 30}\n",
    "print(person)\n",
    "type(person)"
   ]
  },
  {
   "cell_type": "code",
   "execution_count": null,
   "id": "3cc641da",
   "metadata": {},
   "outputs": [],
   "source": [
    "###set:\n",
    "unique_numbers = {1, 2, 3, 4, 5, 1, 2, 3, 4, 5}\n",
    "print(unique_numbers)\n",
    "type(unique_numbers)"
   ]
  },
  {
   "cell_type": "code",
   "execution_count": null,
   "id": "d4032361",
   "metadata": {},
   "outputs": [],
   "source": [
    "##  Boolean\n",
    "truefalse=True\n",
    "print(truefalse)\n",
    "type(truefalse)"
   ]
  },
  {
   "cell_type": "code",
   "execution_count": null,
   "id": "cac71f85",
   "metadata": {},
   "outputs": [],
   "source": [
    "### None\n",
    "noidea=None\n",
    "print(noidea)\n",
    "type(noidea)"
   ]
  },
  {
   "cell_type": "code",
   "execution_count": null,
   "id": "39b8ea72",
   "metadata": {},
   "outputs": [],
   "source": [
    "x = 10\n",
    "print(x)\n",
    "if isinstance(x, int):\n",
    "    print(f\"The variable is a/an {type(x)}  \")\n",
    "type(x) "
   ]
  }
 ],
 "metadata": {
  "kernelspec": {
   "display_name": "Python 3 (ipykernel)",
   "language": "python",
   "name": "python3"
  },
  "language_info": {
   "codemirror_mode": {
    "name": "ipython",
    "version": 3
   },
   "file_extension": ".py",
   "mimetype": "text/x-python",
   "name": "python",
   "nbconvert_exporter": "python",
   "pygments_lexer": "ipython3",
   "version": "3.10.9"
  }
 },
 "nbformat": 4,
 "nbformat_minor": 5
}

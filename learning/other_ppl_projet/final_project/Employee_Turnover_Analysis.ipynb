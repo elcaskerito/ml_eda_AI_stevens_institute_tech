{
  "cells": [
    {
      "cell_type": "markdown",
      "metadata": {
        "colab_type": "text",
        "id": "_k-1yEZdZltX"
      },
      "source": [
        "#Data Preprocessing\n"
      ]
    },
    {
      "cell_type": "code",
      "execution_count": 1,
      "metadata": {
        "colab": {
          "base_uri": "https://localhost:8080/",
          "height": 265
        },
        "colab_type": "code",
        "id": "MVOnxsHZV1Ug",
        "outputId": "40ca95ed-d035-49c1-920f-b76ceda01cd7"
      },
      "outputs": [
        {
          "name": "stdout",
          "output_type": "stream",
          "text": [
            "The list of all columns:\n",
            "['Satisfaction_Score', 'Performance_Score', 'Realised_Project', 'Montly_Hours', 'Tenure', 'Work_accident', 'Employment_status', 'Promotion_History', 'Department', 'Salary', 'Bonus', 'Job_level']\n",
            "\n",
            " Display the dataset \n",
            "\n"
          ]
        },
        {
          "data": {
            "text/html": [
              "<div>\n",
              "<style scoped>\n",
              "    .dataframe tbody tr th:only-of-type {\n",
              "        vertical-align: middle;\n",
              "    }\n",
              "\n",
              "    .dataframe tbody tr th {\n",
              "        vertical-align: top;\n",
              "    }\n",
              "\n",
              "    .dataframe thead th {\n",
              "        text-align: right;\n",
              "    }\n",
              "</style>\n",
              "<table border=\"1\" class=\"dataframe\">\n",
              "  <thead>\n",
              "    <tr style=\"text-align: right;\">\n",
              "      <th></th>\n",
              "      <th>Satisfaction_Score</th>\n",
              "      <th>Performance_Score</th>\n",
              "      <th>Realised_Project</th>\n",
              "      <th>Montly_Hours</th>\n",
              "      <th>Tenure</th>\n",
              "      <th>Work_accident</th>\n",
              "      <th>Employment_status</th>\n",
              "      <th>Promotion_History</th>\n",
              "      <th>Department</th>\n",
              "      <th>Salary</th>\n",
              "      <th>Bonus</th>\n",
              "      <th>Job_level</th>\n",
              "    </tr>\n",
              "  </thead>\n",
              "  <tbody>\n",
              "    <tr>\n",
              "      <th>0</th>\n",
              "      <td>0.9</td>\n",
              "      <td>9.5</td>\n",
              "      <td>6</td>\n",
              "      <td>304</td>\n",
              "      <td>4</td>\n",
              "      <td>0</td>\n",
              "      <td>1</td>\n",
              "      <td>0</td>\n",
              "      <td>sales</td>\n",
              "      <td>low</td>\n",
              "      <td>1</td>\n",
              "      <td>Senior_Level</td>\n",
              "    </tr>\n",
              "    <tr>\n",
              "      <th>1</th>\n",
              "      <td>0.9</td>\n",
              "      <td>6.2</td>\n",
              "      <td>6</td>\n",
              "      <td>294</td>\n",
              "      <td>4</td>\n",
              "      <td>0</td>\n",
              "      <td>1</td>\n",
              "      <td>0</td>\n",
              "      <td>accounting</td>\n",
              "      <td>low</td>\n",
              "      <td>0</td>\n",
              "      <td>Entry_Level</td>\n",
              "    </tr>\n",
              "    <tr>\n",
              "      <th>2</th>\n",
              "      <td>0.9</td>\n",
              "      <td>8.9</td>\n",
              "      <td>6</td>\n",
              "      <td>276</td>\n",
              "      <td>4</td>\n",
              "      <td>0</td>\n",
              "      <td>1</td>\n",
              "      <td>0</td>\n",
              "      <td>technical</td>\n",
              "      <td>low</td>\n",
              "      <td>1</td>\n",
              "      <td>Entry_Level</td>\n",
              "    </tr>\n",
              "    <tr>\n",
              "      <th>3</th>\n",
              "      <td>0.9</td>\n",
              "      <td>7.7</td>\n",
              "      <td>5</td>\n",
              "      <td>275</td>\n",
              "      <td>4</td>\n",
              "      <td>0</td>\n",
              "      <td>1</td>\n",
              "      <td>0</td>\n",
              "      <td>product_mng</td>\n",
              "      <td>medium</td>\n",
              "      <td>1</td>\n",
              "      <td>Senior_Level</td>\n",
              "    </tr>\n",
              "    <tr>\n",
              "      <th>4</th>\n",
              "      <td>0.9</td>\n",
              "      <td>8.7</td>\n",
              "      <td>7</td>\n",
              "      <td>295</td>\n",
              "      <td>4</td>\n",
              "      <td>0</td>\n",
              "      <td>1</td>\n",
              "      <td>0</td>\n",
              "      <td>product_mng</td>\n",
              "      <td>low</td>\n",
              "      <td>0</td>\n",
              "      <td>Entry_Level</td>\n",
              "    </tr>\n",
              "  </tbody>\n",
              "</table>\n",
              "</div>"
            ],
            "text/plain": [
              "   Satisfaction_Score  Performance_Score  Realised_Project  Montly_Hours  \\\n",
              "0                 0.9                9.5                 6           304   \n",
              "1                 0.9                6.2                 6           294   \n",
              "2                 0.9                8.9                 6           276   \n",
              "3                 0.9                7.7                 5           275   \n",
              "4                 0.9                8.7                 7           295   \n",
              "\n",
              "   Tenure  Work_accident  Employment_status  Promotion_History   Department  \\\n",
              "0       4              0                  1                  0        sales   \n",
              "1       4              0                  1                  0   accounting   \n",
              "2       4              0                  1                  0    technical   \n",
              "3       4              0                  1                  0  product_mng   \n",
              "4       4              0                  1                  0  product_mng   \n",
              "\n",
              "   Salary  Bonus     Job_level  \n",
              "0     low      1  Senior_Level  \n",
              "1     low      0   Entry_Level  \n",
              "2     low      1   Entry_Level  \n",
              "3  medium      1  Senior_Level  \n",
              "4     low      0   Entry_Level  "
            ]
          },
          "execution_count": 1,
          "metadata": {},
          "output_type": "execute_result"
        }
      ],
      "source": [
        "import pandas as pd\n",
        "df = pd.read_csv('data_generated.csv')\n",
        "\n",
        "col = df.columns.tolist()\n",
        "print(\"The list of all columns:\")\n",
        "print(col)\n",
        "\n",
        "print(\"\\n Display the dataset \\n\")\n",
        "df.head()"
      ]
    },
    {
      "cell_type": "markdown",
      "metadata": {
        "colab_type": "text",
        "id": "bhtsN81_WWk8"
      },
      "source": [
        "### There are 3 categorical features. One is Department, Job_level and Salary."
      ]
    },
    {
      "cell_type": "code",
      "execution_count": 2,
      "metadata": {
        "colab": {
          "base_uri": "https://localhost:8080/",
          "height": 212
        },
        "colab_type": "code",
        "id": "c05TwJ_tWnTB",
        "outputId": "b0fbb600-6085-4780-b914-a6f68de5e9ab"
      },
      "outputs": [
        {
          "data": {
            "text/plain": [
              "Satisfaction_Score    float64\n",
              "Performance_Score     float64\n",
              "Realised_Project        int64\n",
              "Montly_Hours            int64\n",
              "Tenure                  int64\n",
              "Work_accident           int64\n",
              "Employment_status       int64\n",
              "Promotion_History       int64\n",
              "Department             object\n",
              "Salary                 object\n",
              "Bonus                   int64\n",
              "Job_level              object\n",
              "dtype: object"
            ]
          },
          "execution_count": 2,
          "metadata": {},
          "output_type": "execute_result"
        }
      ],
      "source": [
        "df.dtypes\n"
      ]
    },
    {
      "cell_type": "code",
      "execution_count": 3,
      "metadata": {
        "colab": {
          "base_uri": "https://localhost:8080/",
          "height": 212
        },
        "colab_type": "code",
        "id": "2gztspw0WrEG",
        "outputId": "055f88fd-ce9c-4860-fcc6-422b278a6a90"
      },
      "outputs": [
        {
          "data": {
            "text/plain": [
              "Satisfaction_Score    False\n",
              "Performance_Score     False\n",
              "Realised_Project      False\n",
              "Montly_Hours          False\n",
              "Tenure                False\n",
              "Work_accident         False\n",
              "Employment_status     False\n",
              "Promotion_History     False\n",
              "Department            False\n",
              "Salary                False\n",
              "Bonus                 False\n",
              "Job_level             False\n",
              "dtype: bool"
            ]
          },
          "execution_count": 3,
          "metadata": {},
          "output_type": "execute_result"
        }
      ],
      "source": [
        "df.isnull().any()\n",
        "\n",
        "# checking for missing value\n"
      ]
    },
    {
      "cell_type": "markdown",
      "metadata": {
        "colab_type": "text",
        "id": "QmQul8x_Wv3J"
      },
      "source": [
        "Our data is clean. There are no missing and null values."
      ]
    },
    {
      "cell_type": "code",
      "execution_count": 4,
      "metadata": {
        "colab": {
          "base_uri": "https://localhost:8080/",
          "height": 35
        },
        "colab_type": "code",
        "id": "RuG8CB3uW0fV",
        "outputId": "b3463eb2-1041-45a0-a64d-20050c8f50da"
      },
      "outputs": [
        {
          "data": {
            "text/plain": [
              "(15999, 12)"
            ]
          },
          "execution_count": 4,
          "metadata": {},
          "output_type": "execute_result"
        }
      ],
      "source": [
        "df.shape\n"
      ]
    },
    {
      "cell_type": "markdown",
      "metadata": {
        "colab_type": "text",
        "id": "PgpKOaBpW5jt"
      },
      "source": [
        "We have a total of 15999 observations"
      ]
    },
    {
      "cell_type": "code",
      "execution_count": 5,
      "metadata": {
        "colab": {
          "base_uri": "https://localhost:8080/",
          "height": 282
        },
        "colab_type": "code",
        "id": "gCb9E_21W8qh",
        "outputId": "2fa9f65c-1147-461f-faf4-e35fedc2f0d6"
      },
      "outputs": [
        {
          "data": {
            "text/html": [
              "<div>\n",
              "<style scoped>\n",
              "    .dataframe tbody tr th:only-of-type {\n",
              "        vertical-align: middle;\n",
              "    }\n",
              "\n",
              "    .dataframe tbody tr th {\n",
              "        vertical-align: top;\n",
              "    }\n",
              "\n",
              "    .dataframe thead th {\n",
              "        text-align: right;\n",
              "    }\n",
              "</style>\n",
              "<table border=\"1\" class=\"dataframe\">\n",
              "  <thead>\n",
              "    <tr style=\"text-align: right;\">\n",
              "      <th></th>\n",
              "      <th>Satisfaction_Score</th>\n",
              "      <th>Performance_Score</th>\n",
              "      <th>Realised_Project</th>\n",
              "      <th>Montly_Hours</th>\n",
              "      <th>Tenure</th>\n",
              "      <th>Work_accident</th>\n",
              "      <th>Employment_status</th>\n",
              "      <th>Promotion_History</th>\n",
              "      <th>Bonus</th>\n",
              "    </tr>\n",
              "  </thead>\n",
              "  <tbody>\n",
              "    <tr>\n",
              "      <th>count</th>\n",
              "      <td>15999.000000</td>\n",
              "      <td>15999.000000</td>\n",
              "      <td>15999.000000</td>\n",
              "      <td>15999.000000</td>\n",
              "      <td>15999.000000</td>\n",
              "      <td>15999.000000</td>\n",
              "      <td>15999.000000</td>\n",
              "      <td>15999.000000</td>\n",
              "      <td>15999.000000</td>\n",
              "    </tr>\n",
              "    <tr>\n",
              "      <th>mean</th>\n",
              "      <td>6.057935</td>\n",
              "      <td>7.028133</td>\n",
              "      <td>3.911994</td>\n",
              "      <td>201.471029</td>\n",
              "      <td>3.589974</td>\n",
              "      <td>0.165948</td>\n",
              "      <td>0.255016</td>\n",
              "      <td>0.050253</td>\n",
              "      <td>0.531533</td>\n",
              "    </tr>\n",
              "    <tr>\n",
              "      <th>std</th>\n",
              "      <td>2.547152</td>\n",
              "      <td>1.906156</td>\n",
              "      <td>1.456759</td>\n",
              "      <td>50.991791</td>\n",
              "      <td>1.655893</td>\n",
              "      <td>0.372045</td>\n",
              "      <td>0.435884</td>\n",
              "      <td>0.218474</td>\n",
              "      <td>0.499020</td>\n",
              "    </tr>\n",
              "    <tr>\n",
              "      <th>min</th>\n",
              "      <td>0.000000</td>\n",
              "      <td>0.000000</td>\n",
              "      <td>1.000000</td>\n",
              "      <td>96.000000</td>\n",
              "      <td>0.000000</td>\n",
              "      <td>0.000000</td>\n",
              "      <td>0.000000</td>\n",
              "      <td>0.000000</td>\n",
              "      <td>0.000000</td>\n",
              "    </tr>\n",
              "    <tr>\n",
              "      <th>25%</th>\n",
              "      <td>4.300000</td>\n",
              "      <td>5.500000</td>\n",
              "      <td>3.000000</td>\n",
              "      <td>156.000000</td>\n",
              "      <td>3.000000</td>\n",
              "      <td>0.000000</td>\n",
              "      <td>0.000000</td>\n",
              "      <td>0.000000</td>\n",
              "      <td>0.000000</td>\n",
              "    </tr>\n",
              "    <tr>\n",
              "      <th>50%</th>\n",
              "      <td>6.400000</td>\n",
              "      <td>7.100000</td>\n",
              "      <td>4.000000</td>\n",
              "      <td>200.000000</td>\n",
              "      <td>3.000000</td>\n",
              "      <td>0.000000</td>\n",
              "      <td>0.000000</td>\n",
              "      <td>0.000000</td>\n",
              "      <td>1.000000</td>\n",
              "    </tr>\n",
              "    <tr>\n",
              "      <th>75%</th>\n",
              "      <td>8.100000</td>\n",
              "      <td>8.700000</td>\n",
              "      <td>5.000000</td>\n",
              "      <td>246.000000</td>\n",
              "      <td>4.000000</td>\n",
              "      <td>0.000000</td>\n",
              "      <td>1.000000</td>\n",
              "      <td>0.000000</td>\n",
              "      <td>1.000000</td>\n",
              "    </tr>\n",
              "    <tr>\n",
              "      <th>max</th>\n",
              "      <td>10.000000</td>\n",
              "      <td>10.000000</td>\n",
              "      <td>10.000000</td>\n",
              "      <td>320.000000</td>\n",
              "      <td>10.000000</td>\n",
              "      <td>1.000000</td>\n",
              "      <td>1.000000</td>\n",
              "      <td>1.000000</td>\n",
              "      <td>1.000000</td>\n",
              "    </tr>\n",
              "  </tbody>\n",
              "</table>\n",
              "</div>"
            ],
            "text/plain": [
              "       Satisfaction_Score  Performance_Score  Realised_Project  Montly_Hours  \\\n",
              "count        15999.000000       15999.000000      15999.000000  15999.000000   \n",
              "mean             6.057935           7.028133          3.911994    201.471029   \n",
              "std              2.547152           1.906156          1.456759     50.991791   \n",
              "min              0.000000           0.000000          1.000000     96.000000   \n",
              "25%              4.300000           5.500000          3.000000    156.000000   \n",
              "50%              6.400000           7.100000          4.000000    200.000000   \n",
              "75%              8.100000           8.700000          5.000000    246.000000   \n",
              "max             10.000000          10.000000         10.000000    320.000000   \n",
              "\n",
              "             Tenure  Work_accident  Employment_status  Promotion_History  \\\n",
              "count  15999.000000   15999.000000       15999.000000       15999.000000   \n",
              "mean       3.589974       0.165948           0.255016           0.050253   \n",
              "std        1.655893       0.372045           0.435884           0.218474   \n",
              "min        0.000000       0.000000           0.000000           0.000000   \n",
              "25%        3.000000       0.000000           0.000000           0.000000   \n",
              "50%        3.000000       0.000000           0.000000           0.000000   \n",
              "75%        4.000000       0.000000           1.000000           0.000000   \n",
              "max       10.000000       1.000000           1.000000           1.000000   \n",
              "\n",
              "              Bonus  \n",
              "count  15999.000000  \n",
              "mean       0.531533  \n",
              "std        0.499020  \n",
              "min        0.000000  \n",
              "25%        0.000000  \n",
              "50%        1.000000  \n",
              "75%        1.000000  \n",
              "max        1.000000  "
            ]
          },
          "execution_count": 5,
          "metadata": {},
          "output_type": "execute_result"
        }
      ],
      "source": [
        "df.describe()\n"
      ]
    },
    {
      "cell_type": "code",
      "execution_count": 6,
      "metadata": {
        "colab": {
          "base_uri": "https://localhost:8080/",
          "height": 52
        },
        "colab_type": "code",
        "id": "_fFi9HmuXlLL",
        "outputId": "b5777af5-97dd-4b92-df60-7757e87d155a"
      },
      "outputs": [
        {
          "data": {
            "text/plain": [
              "array(['sales', 'accounting', 'technical', 'product_mng', 'hr', 'support',\n",
              "       'IT', 'RandD', 'marketing', 'management', 'Supply_Chain',\n",
              "       'Logistic', 'Quality_Assurance', 'Legal_Compliance'], dtype=object)"
            ]
          },
          "execution_count": 6,
          "metadata": {},
          "output_type": "execute_result"
        }
      ],
      "source": [
        "df['Department'].unique()\n"
      ]
    },
    {
      "cell_type": "markdown",
      "metadata": {
        "colab_type": "text",
        "id": "PmF5Il5QYENM"
      },
      "source": [
        "As we can see, there are 14 departments"
      ]
    },
    {
      "cell_type": "markdown",
      "metadata": {
        "colab_type": "text",
        "id": "gwsVFs10YXJ6"
      },
      "source": [
        "#**Exploratory Data Analysis**`"
      ]
    },
    {
      "cell_type": "code",
      "execution_count": 7,
      "metadata": {
        "colab": {
          "base_uri": "https://localhost:8080/",
          "height": 70
        },
        "colab_type": "code",
        "id": "ZPh5zIMtYMm9",
        "outputId": "b3864311-7d7c-458b-cd89-334a857e80d9"
      },
      "outputs": [
        {
          "data": {
            "text/plain": [
              "Employment_status\n",
              "0    11919\n",
              "1     4080\n",
              "Name: count, dtype: int64"
            ]
          },
          "execution_count": 7,
          "metadata": {},
          "output_type": "execute_result"
        }
      ],
      "source": [
        "# counting the number of employee left and stayed\n",
        "\n",
        "df['Employment_status'].value_counts()\n"
      ]
    },
    {
      "cell_type": "markdown",
      "metadata": {
        "colab_type": "text",
        "id": "NT-f71CkYf_S"
      },
      "source": [
        "Out of 15999 employees, 4080 left the company"
      ]
    },
    {
      "cell_type": "code",
      "execution_count": 8,
      "metadata": {
        "colab": {
          "base_uri": "https://localhost:8080/",
          "height": 135
        },
        "colab_type": "code",
        "id": "4Y4mI6PPYljB",
        "outputId": "da1b8093-998f-4d2b-f845-53309fbfd3cf"
      },
      "outputs": [
        {
          "data": {
            "text/html": [
              "<div>\n",
              "<style scoped>\n",
              "    .dataframe tbody tr th:only-of-type {\n",
              "        vertical-align: middle;\n",
              "    }\n",
              "\n",
              "    .dataframe tbody tr th {\n",
              "        vertical-align: top;\n",
              "    }\n",
              "\n",
              "    .dataframe thead th {\n",
              "        text-align: right;\n",
              "    }\n",
              "</style>\n",
              "<table border=\"1\" class=\"dataframe\">\n",
              "  <thead>\n",
              "    <tr style=\"text-align: right;\">\n",
              "      <th></th>\n",
              "      <th>Satisfaction_Score</th>\n",
              "      <th>Performance_Score</th>\n",
              "      <th>Realised_Project</th>\n",
              "      <th>Montly_Hours</th>\n",
              "      <th>Tenure</th>\n",
              "      <th>Work_accident</th>\n",
              "      <th>Promotion_History</th>\n",
              "      <th>Bonus</th>\n",
              "    </tr>\n",
              "    <tr>\n",
              "      <th>Employment_status</th>\n",
              "      <th></th>\n",
              "      <th></th>\n",
              "      <th></th>\n",
              "      <th></th>\n",
              "      <th></th>\n",
              "      <th></th>\n",
              "      <th></th>\n",
              "      <th></th>\n",
              "    </tr>\n",
              "  </thead>\n",
              "  <tbody>\n",
              "    <tr>\n",
              "      <th>0</th>\n",
              "      <td>6.594513</td>\n",
              "      <td>7.060265</td>\n",
              "      <td>3.867606</td>\n",
              "      <td>199.468747</td>\n",
              "      <td>3.445843</td>\n",
              "      <td>0.189278</td>\n",
              "      <td>0.044719</td>\n",
              "      <td>0.521017</td>\n",
              "    </tr>\n",
              "    <tr>\n",
              "      <th>1</th>\n",
              "      <td>4.490417</td>\n",
              "      <td>6.934265</td>\n",
              "      <td>4.041667</td>\n",
              "      <td>207.320343</td>\n",
              "      <td>4.011029</td>\n",
              "      <td>0.097794</td>\n",
              "      <td>0.066422</td>\n",
              "      <td>0.562255</td>\n",
              "    </tr>\n",
              "  </tbody>\n",
              "</table>\n",
              "</div>"
            ],
            "text/plain": [
              "                   Satisfaction_Score  Performance_Score  Realised_Project  \\\n",
              "Employment_status                                                            \n",
              "0                            6.594513           7.060265          3.867606   \n",
              "1                            4.490417           6.934265          4.041667   \n",
              "\n",
              "                   Montly_Hours    Tenure  Work_accident  Promotion_History  \\\n",
              "Employment_status                                                             \n",
              "0                    199.468747  3.445843       0.189278           0.044719   \n",
              "1                    207.320343  4.011029       0.097794           0.066422   \n",
              "\n",
              "                      Bonus  \n",
              "Employment_status            \n",
              "0                  0.521017  \n",
              "1                  0.562255  "
            ]
          },
          "execution_count": 8,
          "metadata": {},
          "output_type": "execute_result"
        }
      ],
      "source": [
        "df.groupby('Employment_status').mean(numeric_only= True)\n"
      ]
    },
    {
      "cell_type": "code",
      "execution_count": 9,
      "metadata": {
        "colab": {
          "base_uri": "https://localhost:8080/",
          "height": 370
        },
        "colab_type": "code",
        "id": "r8l80Zk7YqdT",
        "outputId": "022e3b5d-d9dc-47c3-a26f-a9359ee845c6"
      },
      "outputs": [
        {
          "data": {
            "text/html": [
              "<div>\n",
              "<style scoped>\n",
              "    .dataframe tbody tr th:only-of-type {\n",
              "        vertical-align: middle;\n",
              "    }\n",
              "\n",
              "    .dataframe tbody tr th {\n",
              "        vertical-align: top;\n",
              "    }\n",
              "\n",
              "    .dataframe thead th {\n",
              "        text-align: right;\n",
              "    }\n",
              "</style>\n",
              "<table border=\"1\" class=\"dataframe\">\n",
              "  <thead>\n",
              "    <tr style=\"text-align: right;\">\n",
              "      <th></th>\n",
              "      <th>Satisfaction_Score</th>\n",
              "      <th>Performance_Score</th>\n",
              "      <th>Realised_Project</th>\n",
              "      <th>Montly_Hours</th>\n",
              "      <th>Tenure</th>\n",
              "      <th>Work_accident</th>\n",
              "      <th>Employment_status</th>\n",
              "      <th>Promotion_History</th>\n",
              "      <th>Bonus</th>\n",
              "    </tr>\n",
              "    <tr>\n",
              "      <th>Department</th>\n",
              "      <th></th>\n",
              "      <th></th>\n",
              "      <th></th>\n",
              "      <th></th>\n",
              "      <th></th>\n",
              "      <th></th>\n",
              "      <th></th>\n",
              "      <th></th>\n",
              "      <th></th>\n",
              "    </tr>\n",
              "  </thead>\n",
              "  <tbody>\n",
              "    <tr>\n",
              "      <th>IT</th>\n",
              "      <td>6.181418</td>\n",
              "      <td>7.168297</td>\n",
              "      <td>3.816626</td>\n",
              "      <td>202.215974</td>\n",
              "      <td>3.468623</td>\n",
              "      <td>0.133659</td>\n",
              "      <td>0.222494</td>\n",
              "      <td>0.002445</td>\n",
              "      <td>0.493888</td>\n",
              "    </tr>\n",
              "    <tr>\n",
              "      <th>Legal_Compliance</th>\n",
              "      <td>5.101887</td>\n",
              "      <td>4.913208</td>\n",
              "      <td>5.547170</td>\n",
              "      <td>212.686792</td>\n",
              "      <td>5.041509</td>\n",
              "      <td>0.483019</td>\n",
              "      <td>0.520755</td>\n",
              "      <td>0.516981</td>\n",
              "      <td>1.000000</td>\n",
              "    </tr>\n",
              "    <tr>\n",
              "      <th>Logistic</th>\n",
              "      <td>4.875000</td>\n",
              "      <td>4.883333</td>\n",
              "      <td>5.420833</td>\n",
              "      <td>209.370833</td>\n",
              "      <td>5.125000</td>\n",
              "      <td>0.450000</td>\n",
              "      <td>0.479167</td>\n",
              "      <td>0.483333</td>\n",
              "      <td>1.000000</td>\n",
              "    </tr>\n",
              "    <tr>\n",
              "      <th>Quality_Assurance</th>\n",
              "      <td>5.178423</td>\n",
              "      <td>5.078838</td>\n",
              "      <td>5.473029</td>\n",
              "      <td>201.074689</td>\n",
              "      <td>4.850622</td>\n",
              "      <td>0.526971</td>\n",
              "      <td>0.518672</td>\n",
              "      <td>0.485477</td>\n",
              "      <td>1.000000</td>\n",
              "    </tr>\n",
              "    <tr>\n",
              "      <th>RandD</th>\n",
              "      <td>6.198221</td>\n",
              "      <td>7.121220</td>\n",
              "      <td>3.853875</td>\n",
              "      <td>200.800508</td>\n",
              "      <td>3.367217</td>\n",
              "      <td>0.170267</td>\n",
              "      <td>0.153748</td>\n",
              "      <td>0.034307</td>\n",
              "      <td>0.522236</td>\n",
              "    </tr>\n",
              "    <tr>\n",
              "      <th>Supply_Chain</th>\n",
              "      <td>4.850394</td>\n",
              "      <td>5.263780</td>\n",
              "      <td>5.732283</td>\n",
              "      <td>207.523622</td>\n",
              "      <td>4.846457</td>\n",
              "      <td>0.484252</td>\n",
              "      <td>0.515748</td>\n",
              "      <td>0.452756</td>\n",
              "      <td>1.000000</td>\n",
              "    </tr>\n",
              "    <tr>\n",
              "      <th>accounting</th>\n",
              "      <td>5.821512</td>\n",
              "      <td>7.177184</td>\n",
              "      <td>3.825293</td>\n",
              "      <td>201.162973</td>\n",
              "      <td>3.522816</td>\n",
              "      <td>0.125163</td>\n",
              "      <td>0.265971</td>\n",
              "      <td>0.018253</td>\n",
              "      <td>0.512386</td>\n",
              "    </tr>\n",
              "    <tr>\n",
              "      <th>hr</th>\n",
              "      <td>5.988092</td>\n",
              "      <td>7.088498</td>\n",
              "      <td>3.654939</td>\n",
              "      <td>198.684709</td>\n",
              "      <td>3.355886</td>\n",
              "      <td>0.120433</td>\n",
              "      <td>0.290934</td>\n",
              "      <td>0.020298</td>\n",
              "      <td>0.519621</td>\n",
              "    </tr>\n",
              "    <tr>\n",
              "      <th>management</th>\n",
              "      <td>6.213492</td>\n",
              "      <td>7.240000</td>\n",
              "      <td>3.860317</td>\n",
              "      <td>201.249206</td>\n",
              "      <td>4.303175</td>\n",
              "      <td>0.163492</td>\n",
              "      <td>0.144444</td>\n",
              "      <td>0.109524</td>\n",
              "      <td>0.490476</td>\n",
              "    </tr>\n",
              "    <tr>\n",
              "      <th>marketing</th>\n",
              "      <td>6.186014</td>\n",
              "      <td>7.158858</td>\n",
              "      <td>3.687646</td>\n",
              "      <td>199.385781</td>\n",
              "      <td>3.569930</td>\n",
              "      <td>0.160839</td>\n",
              "      <td>0.236597</td>\n",
              "      <td>0.050117</td>\n",
              "      <td>0.516317</td>\n",
              "    </tr>\n",
              "    <tr>\n",
              "      <th>product_mng</th>\n",
              "      <td>6.196341</td>\n",
              "      <td>7.147561</td>\n",
              "      <td>3.807095</td>\n",
              "      <td>199.965632</td>\n",
              "      <td>3.475610</td>\n",
              "      <td>0.146341</td>\n",
              "      <td>0.219512</td>\n",
              "      <td>0.000000</td>\n",
              "      <td>0.504435</td>\n",
              "    </tr>\n",
              "    <tr>\n",
              "      <th>sales</th>\n",
              "      <td>6.144469</td>\n",
              "      <td>7.097174</td>\n",
              "      <td>3.776329</td>\n",
              "      <td>200.911353</td>\n",
              "      <td>3.534058</td>\n",
              "      <td>0.141787</td>\n",
              "      <td>0.244928</td>\n",
              "      <td>0.024155</td>\n",
              "      <td>0.487198</td>\n",
              "    </tr>\n",
              "    <tr>\n",
              "      <th>support</th>\n",
              "      <td>6.182997</td>\n",
              "      <td>7.231090</td>\n",
              "      <td>3.803948</td>\n",
              "      <td>200.758188</td>\n",
              "      <td>3.393001</td>\n",
              "      <td>0.154778</td>\n",
              "      <td>0.248991</td>\n",
              "      <td>0.008973</td>\n",
              "      <td>0.496187</td>\n",
              "    </tr>\n",
              "    <tr>\n",
              "      <th>technical</th>\n",
              "      <td>6.078971</td>\n",
              "      <td>7.210993</td>\n",
              "      <td>3.877941</td>\n",
              "      <td>202.497426</td>\n",
              "      <td>3.411397</td>\n",
              "      <td>0.140074</td>\n",
              "      <td>0.256250</td>\n",
              "      <td>0.010294</td>\n",
              "      <td>0.507353</td>\n",
              "    </tr>\n",
              "  </tbody>\n",
              "</table>\n",
              "</div>"
            ],
            "text/plain": [
              "                   Satisfaction_Score  Performance_Score  Realised_Project  \\\n",
              "Department                                                                   \n",
              "IT                           6.181418           7.168297          3.816626   \n",
              "Legal_Compliance             5.101887           4.913208          5.547170   \n",
              "Logistic                     4.875000           4.883333          5.420833   \n",
              "Quality_Assurance            5.178423           5.078838          5.473029   \n",
              "RandD                        6.198221           7.121220          3.853875   \n",
              "Supply_Chain                 4.850394           5.263780          5.732283   \n",
              "accounting                   5.821512           7.177184          3.825293   \n",
              "hr                           5.988092           7.088498          3.654939   \n",
              "management                   6.213492           7.240000          3.860317   \n",
              "marketing                    6.186014           7.158858          3.687646   \n",
              "product_mng                  6.196341           7.147561          3.807095   \n",
              "sales                        6.144469           7.097174          3.776329   \n",
              "support                      6.182997           7.231090          3.803948   \n",
              "technical                    6.078971           7.210993          3.877941   \n",
              "\n",
              "                   Montly_Hours    Tenure  Work_accident  Employment_status  \\\n",
              "Department                                                                    \n",
              "IT                   202.215974  3.468623       0.133659           0.222494   \n",
              "Legal_Compliance     212.686792  5.041509       0.483019           0.520755   \n",
              "Logistic             209.370833  5.125000       0.450000           0.479167   \n",
              "Quality_Assurance    201.074689  4.850622       0.526971           0.518672   \n",
              "RandD                200.800508  3.367217       0.170267           0.153748   \n",
              "Supply_Chain         207.523622  4.846457       0.484252           0.515748   \n",
              "accounting           201.162973  3.522816       0.125163           0.265971   \n",
              "hr                   198.684709  3.355886       0.120433           0.290934   \n",
              "management           201.249206  4.303175       0.163492           0.144444   \n",
              "marketing            199.385781  3.569930       0.160839           0.236597   \n",
              "product_mng          199.965632  3.475610       0.146341           0.219512   \n",
              "sales                200.911353  3.534058       0.141787           0.244928   \n",
              "support              200.758188  3.393001       0.154778           0.248991   \n",
              "technical            202.497426  3.411397       0.140074           0.256250   \n",
              "\n",
              "                   Promotion_History     Bonus  \n",
              "Department                                      \n",
              "IT                          0.002445  0.493888  \n",
              "Legal_Compliance            0.516981  1.000000  \n",
              "Logistic                    0.483333  1.000000  \n",
              "Quality_Assurance           0.485477  1.000000  \n",
              "RandD                       0.034307  0.522236  \n",
              "Supply_Chain                0.452756  1.000000  \n",
              "accounting                  0.018253  0.512386  \n",
              "hr                          0.020298  0.519621  \n",
              "management                  0.109524  0.490476  \n",
              "marketing                   0.050117  0.516317  \n",
              "product_mng                 0.000000  0.504435  \n",
              "sales                       0.024155  0.487198  \n",
              "support                     0.008973  0.496187  \n",
              "technical                   0.010294  0.507353  "
            ]
          },
          "execution_count": 9,
          "metadata": {},
          "output_type": "execute_result"
        }
      ],
      "source": [
        "df.groupby('Department').mean(numeric_only= True)\n"
      ]
    },
    {
      "cell_type": "code",
      "execution_count": 10,
      "metadata": {
        "colab": {
          "base_uri": "https://localhost:8080/",
          "height": 164
        },
        "colab_type": "code",
        "id": "_kNUYvYfYr9k",
        "outputId": "b5c6e9ad-d46c-46ec-f470-95d9eb1d7024"
      },
      "outputs": [
        {
          "data": {
            "text/html": [
              "<div>\n",
              "<style scoped>\n",
              "    .dataframe tbody tr th:only-of-type {\n",
              "        vertical-align: middle;\n",
              "    }\n",
              "\n",
              "    .dataframe tbody tr th {\n",
              "        vertical-align: top;\n",
              "    }\n",
              "\n",
              "    .dataframe thead th {\n",
              "        text-align: right;\n",
              "    }\n",
              "</style>\n",
              "<table border=\"1\" class=\"dataframe\">\n",
              "  <thead>\n",
              "    <tr style=\"text-align: right;\">\n",
              "      <th></th>\n",
              "      <th>Satisfaction_Score</th>\n",
              "      <th>Performance_Score</th>\n",
              "      <th>Realised_Project</th>\n",
              "      <th>Montly_Hours</th>\n",
              "      <th>Tenure</th>\n",
              "      <th>Work_accident</th>\n",
              "      <th>Employment_status</th>\n",
              "      <th>Promotion_History</th>\n",
              "      <th>Bonus</th>\n",
              "    </tr>\n",
              "    <tr>\n",
              "      <th>Salary</th>\n",
              "      <th></th>\n",
              "      <th></th>\n",
              "      <th></th>\n",
              "      <th></th>\n",
              "      <th></th>\n",
              "      <th></th>\n",
              "      <th></th>\n",
              "      <th></th>\n",
              "      <th></th>\n",
              "    </tr>\n",
              "  </thead>\n",
              "  <tbody>\n",
              "    <tr>\n",
              "      <th>high</th>\n",
              "      <td>6.068802</td>\n",
              "      <td>6.618580</td>\n",
              "      <td>4.121116</td>\n",
              "      <td>201.279011</td>\n",
              "      <td>4.006975</td>\n",
              "      <td>0.227013</td>\n",
              "      <td>0.162968</td>\n",
              "      <td>0.154090</td>\n",
              "      <td>0.611921</td>\n",
              "    </tr>\n",
              "    <tr>\n",
              "      <th>low</th>\n",
              "      <td>5.974238</td>\n",
              "      <td>7.080989</td>\n",
              "      <td>3.880283</td>\n",
              "      <td>201.488159</td>\n",
              "      <td>3.503206</td>\n",
              "      <td>0.156352</td>\n",
              "      <td>0.304854</td>\n",
              "      <td>0.030747</td>\n",
              "      <td>0.521915</td>\n",
              "    </tr>\n",
              "    <tr>\n",
              "      <th>medium</th>\n",
              "      <td>6.149771</td>\n",
              "      <td>7.063815</td>\n",
              "      <td>3.899100</td>\n",
              "      <td>201.496386</td>\n",
              "      <td>3.590795</td>\n",
              "      <td>0.162561</td>\n",
              "      <td>0.220239</td>\n",
              "      <td>0.048090</td>\n",
              "      <td>0.523676</td>\n",
              "    </tr>\n",
              "  </tbody>\n",
              "</table>\n",
              "</div>"
            ],
            "text/plain": [
              "        Satisfaction_Score  Performance_Score  Realised_Project  Montly_Hours  \\\n",
              "Salary                                                                          \n",
              "high              6.068802           6.618580          4.121116    201.279011   \n",
              "low               5.974238           7.080989          3.880283    201.488159   \n",
              "medium            6.149771           7.063815          3.899100    201.496386   \n",
              "\n",
              "          Tenure  Work_accident  Employment_status  Promotion_History  \\\n",
              "Salary                                                                  \n",
              "high    4.006975       0.227013           0.162968           0.154090   \n",
              "low     3.503206       0.156352           0.304854           0.030747   \n",
              "medium  3.590795       0.162561           0.220239           0.048090   \n",
              "\n",
              "           Bonus  \n",
              "Salary            \n",
              "high    0.611921  \n",
              "low     0.521915  \n",
              "medium  0.523676  "
            ]
          },
          "execution_count": 10,
          "metadata": {},
          "output_type": "execute_result"
        }
      ],
      "source": [
        "df.groupby('Salary').mean(numeric_only= True)\n"
      ]
    },
    {
      "cell_type": "code",
      "execution_count": 11,
      "metadata": {
        "colab": {
          "base_uri": "https://localhost:8080/",
          "height": 424
        },
        "colab_type": "code",
        "id": "rkchnaM4Yykw",
        "outputId": "0a2e1647-f5ff-4172-80e6-fe09eccd60d8"
      },
      "outputs": [
        {
          "data": {
            "image/png": "[encoded data removed]",
            "text/plain": [
              "<Figure size 640x480 with 1 Axes>"
            ]
          },
          "metadata": {},
          "output_type": "display_data"
        }
      ],
      "source": [
        "import matplotlib.pyplot as plt\n",
        "\n",
        "# creation of bar char\n",
        "\n",
        "pd.crosstab(df.Department,df.Employment_status).plot(kind='bar')\n",
        "plt.title('Department vs Employment_status')\n",
        "plt.xlabel('Department')\n",
        "plt.ylabel('Frequency of Turnover')\n",
        "plt.savefig('department_bar_chart')"
      ]
    },
    {
      "cell_type": "code",
      "execution_count": 12,
      "metadata": {
        "colab": {
          "base_uri": "https://localhost:8080/",
          "height": 401
        },
        "colab_type": "code",
        "id": "8Y4TDkj_Y0N-",
        "outputId": "635029e1-6581-47ea-a172-41a5cd9a51ef"
      },
      "outputs": [
        {
          "name": "stderr",
          "output_type": "stream",
          "text": [
            "/tmp/ipykernel_71524/3553676841.py:12: UserWarning: Glyph 9 (\t) missing from font(s) DejaVu Sans.\n",
            "  plt.savefig('salary_bar_chart')\n",
            "/home/elcaskerito/anaconda3/lib/python3.12/site-packages/IPython/core/pylabtools.py:170: UserWarning: Glyph 9 (\t) missing from font(s) DejaVu Sans.\n",
            "  fig.canvas.print_figure(bytes_io, **kw)\n"
          ]
        },
        {
          "data": {
            "image/png": "[encoded data removed]",
            "text/plain": [
              "<Figure size 640x480 with 1 Axes>"
            ]
          },
          "metadata": {},
          "output_type": "display_data"
        }
      ],
      "source": [
        "# creation of cross tab\n",
        "table=pd.crosstab(df.Salary, df.Employment_status)\n",
        "\n",
        "# creation of proportion [0-1]\n",
        "table_proportion = table.div(table.sum(1).astype(float), axis=0)\n",
        "\n",
        "# creation of stacked bar chart\n",
        "table_proportion.plot(kind='bar',  stacked = True)\n",
        "plt.title('Stacked Bar Chart of Salary vs Employment_status\t')\n",
        "plt.xlabel('Salary Level')\n",
        "plt.ylabel('Proportion of Employees')\n",
        "plt.savefig('salary_bar_chart')"
      ]
    },
    {
      "cell_type": "code",
      "execution_count": 13,
      "metadata": {
        "colab": {
          "base_uri": "https://localhost:8080/",
          "height": 370
        },
        "colab_type": "code",
        "id": "01JR31-nY4bC",
        "outputId": "699b5225-cbfb-4cfc-acbc-c3d125b7a8ba"
      },
      "outputs": [
        {
          "data": {
            "text/html": [
              "<div>\n",
              "<style scoped>\n",
              "    .dataframe tbody tr th:only-of-type {\n",
              "        vertical-align: middle;\n",
              "    }\n",
              "\n",
              "    .dataframe tbody tr th {\n",
              "        vertical-align: top;\n",
              "    }\n",
              "\n",
              "    .dataframe thead th {\n",
              "        text-align: right;\n",
              "    }\n",
              "</style>\n",
              "<table border=\"1\" class=\"dataframe\">\n",
              "  <thead>\n",
              "    <tr style=\"text-align: right;\">\n",
              "      <th>Employment_status</th>\n",
              "      <th>0</th>\n",
              "      <th>1</th>\n",
              "    </tr>\n",
              "    <tr>\n",
              "      <th>Salary</th>\n",
              "      <th></th>\n",
              "      <th></th>\n",
              "    </tr>\n",
              "  </thead>\n",
              "  <tbody>\n",
              "    <tr>\n",
              "      <th>high</th>\n",
              "      <td>1320</td>\n",
              "      <td>257</td>\n",
              "    </tr>\n",
              "    <tr>\n",
              "      <th>low</th>\n",
              "      <td>5313</td>\n",
              "      <td>2330</td>\n",
              "    </tr>\n",
              "    <tr>\n",
              "      <th>medium</th>\n",
              "      <td>5286</td>\n",
              "      <td>1493</td>\n",
              "    </tr>\n",
              "  </tbody>\n",
              "</table>\n",
              "</div>"
            ],
            "text/plain": [
              "Employment_status     0     1\n",
              "Salary                       \n",
              "high               1320   257\n",
              "low                5313  2330\n",
              "medium             5286  1493"
            ]
          },
          "execution_count": 13,
          "metadata": {},
          "output_type": "execute_result"
        }
      ],
      "source": [
        "# cross table dpt vs turnover\n",
        "\n",
        "pd.crosstab(df.Department, df.Employment_status)\n",
        "\n",
        "# cross table turnover vs salary \n",
        "pd.crosstab(df.Salary, df.Employment_status)\n",
        "\n"
      ]
    },
    {
      "cell_type": "code",
      "execution_count": 14,
      "metadata": {
        "colab": {
          "base_uri": "https://localhost:8080/",
          "height": 878
        },
        "colab_type": "code",
        "id": "dzbQiEYuY-NS",
        "outputId": "a107c38b-e2dc-448d-fd8f-5a45f6e8e313"
      },
      "outputs": [
        {
          "data": {
            "image/png": "[encoded data removed]",
            "text/plain": [
              "<Figure size 2000x1500 with 9 Axes>"
            ]
          },
          "metadata": {},
          "output_type": "display_data"
        }
      ],
      "source": [
        "# Histogram\n",
        "\n",
        "\n",
        "num_bins = 10\n",
        "\n",
        "df.hist(bins=num_bins, figsize=(20,15))\n",
        "plt.savefig(\"hr_histogram_plots\")\n",
        "plt.show()"
      ]
    },
    {
      "cell_type": "markdown",
      "metadata": {
        "colab_type": "text",
        "id": "-LgE_6-wZCyT"
      },
      "source": [
        "<!-- let's convert categorical data into dummy variables before modelling. to make it less challenging -->"
      ]
    },
    {
      "cell_type": "code",
      "execution_count": 15,
      "metadata": {
        "colab": {},
        "colab_type": "code",
        "id": "HtvULX0nZTum"
      },
      "outputs": [],
      "source": [
        "catVariable=['Department','Salary', 'Job_level']\n",
        "for var in catVariable:\n",
        "    catList='var'+'_'+var\n",
        "    catList = pd.get_dummies(df[var], prefix=var)\n",
        "    df1=df.join(catList)\n",
        "    df=df1"
      ]
    },
    {
      "cell_type": "markdown",
      "metadata": {
        "colab_type": "text",
        "id": "VofHmzQiZYag"
      },
      "source": [
        "Removal of actual categorical variable once the dummy variable has been created"
      ]
    },
    {
      "cell_type": "code",
      "execution_count": 16,
      "metadata": {
        "colab": {},
        "colab_type": "code",
        "id": "Ik4J4puSZc9l"
      },
      "outputs": [],
      "source": [
        "df.drop(df.columns[[8, 9, 11]], axis=1, inplace=True)\n"
      ]
    },
    {
      "cell_type": "code",
      "execution_count": 17,
      "metadata": {
        "colab": {
          "base_uri": "https://localhost:8080/",
          "height": 159
        },
        "colab_type": "code",
        "id": "urcqA_5BZfJv",
        "outputId": "ec0ac061-72aa-4c78-e8af-0f478b970447"
      },
      "outputs": [
        {
          "data": {
            "text/plain": [
              "array(['Satisfaction_Score', 'Performance_Score', 'Realised_Project',\n",
              "       'Montly_Hours', 'Tenure', 'Work_accident', 'Employment_status',\n",
              "       'Promotion_History', 'Bonus', 'Department_IT',\n",
              "       'Department_Legal_Compliance', 'Department_Logistic',\n",
              "       'Department_Quality_Assurance', 'Department_RandD',\n",
              "       'Department_Supply_Chain', 'Department_accounting',\n",
              "       'Department_hr', 'Department_management', 'Department_marketing',\n",
              "       'Department_product_mng', 'Department_sales', 'Department_support',\n",
              "       'Department_technical', 'Salary_high', 'Salary_low',\n",
              "       'Salary_medium', 'Job_level_Entry_Level', 'Job_level_Executive',\n",
              "       'Job_level_Mid_Level', 'Job_level_Senior_Level'], dtype=object)"
            ]
          },
          "execution_count": 17,
          "metadata": {},
          "output_type": "execute_result"
        }
      ],
      "source": [
        "# display new column of dataset\n",
        "df.columns.values\n",
        "\n"
      ]
    },
    {
      "cell_type": "code",
      "execution_count": 18,
      "metadata": {
        "colab": {},
        "colab_type": "code",
        "id": "8OrTf1HUZjqQ"
      },
      "outputs": [],
      "source": [
        "# creation of feature X and target y column\n",
        "\n",
        "df_vars=df.columns.values.tolist()\n",
        "y=['Employment_status']\n",
        "X=[i for i in df_vars if i not in y]\n",
        "a=X"
      ]
    },
    {
      "cell_type": "code",
      "execution_count": 19,
      "metadata": {},
      "outputs": [
        {
          "name": "stdout",
          "output_type": "stream",
          "text": [
            "['Satisfaction_Score', 'Performance_Score', 'Realised_Project', 'Montly_Hours', 'Tenure', 'Work_accident', 'Promotion_History', 'Bonus', 'Department_IT', 'Department_Legal_Compliance', 'Department_Logistic', 'Department_Quality_Assurance', 'Department_RandD', 'Department_Supply_Chain', 'Department_accounting', 'Department_hr', 'Department_management', 'Department_marketing', 'Department_product_mng', 'Department_sales', 'Department_support', 'Department_technical', 'Salary_high', 'Salary_low', 'Salary_medium', 'Job_level_Entry_Level', 'Job_level_Executive', 'Job_level_Mid_Level', 'Job_level_Senior_Level']\n"
          ]
        }
      ],
      "source": [
        "# display of feature column\n",
        "\n",
        "print(a)\n"
      ]
    },
    {
      "cell_type": "markdown",
      "metadata": {
        "colab_type": "text",
        "id": "yLG2bDtVZ6vV"
      },
      "source": [
        "# **Modelling**"
      ]
    },
    {
      "cell_type": "code",
      "execution_count": 20,
      "metadata": {
        "colab": {
          "base_uri": "https://localhost:8080/",
          "height": 126
        },
        "colab_type": "code",
        "id": "4wK77EADZn4v",
        "outputId": "fc2962f9-6fef-4a8d-ad01-aa8474aea578"
      },
      "outputs": [],
      "source": [
        "\n",
        "import pandas as pd\n",
        "from sklearn.model_selection import train_test_split\n",
        "from sklearn.tree import DecisionTreeClassifier\n",
        "from sklearn.ensemble import RandomForestClassifier\n",
        "import numpy as np\n",
        "from sklearn.metrics import confusion_matrix, classification_report, accuracy_score\n",
        "import seaborn as sns\n",
        "import matplotlib.pyplot as plt\n",
        "from sklearn.tree import plot_tree"
      ]
    },
    {
      "cell_type": "code",
      "execution_count": 21,
      "metadata": {
        "colab": {},
        "colab_type": "code",
        "id": "BmN3-hrzZwAu"
      },
      "outputs": [
        {
          "name": "stdout",
          "output_type": "stream",
          "text": [
            "       Satisfaction_Score  Performance_Score  Realised_Project  Montly_Hours  \\\n",
            "0                     0.9                9.5                 6           304   \n",
            "1                     0.9                6.2                 6           294   \n",
            "2                     0.9                8.9                 6           276   \n",
            "3                     0.9                7.7                 5           275   \n",
            "4                     0.9                8.7                 7           295   \n",
            "...                   ...                ...               ...           ...   \n",
            "15994                 5.0                6.0                 3           316   \n",
            "15995                 2.0                5.0                 4           154   \n",
            "15996                10.0                1.0                 2           156   \n",
            "15997                 8.0                4.0                 3           122   \n",
            "15998                 4.0                1.0                 8           199   \n",
            "\n",
            "       Tenure  Work_accident  Promotion_History  Bonus  Department_IT  \\\n",
            "0           4              0                  0      1          False   \n",
            "1           4              0                  0      0          False   \n",
            "2           4              0                  0      1          False   \n",
            "3           4              0                  0      1          False   \n",
            "4           4              0                  0      0          False   \n",
            "...       ...            ...                ...    ...            ...   \n",
            "15994       8              0                  0      1          False   \n",
            "15995       9              1                  1      1          False   \n",
            "15996       7              1                  0      1          False   \n",
            "15997       5              0                  0      1          False   \n",
            "15998       6              1                  0      1          False   \n",
            "\n",
            "       Department_Legal_Compliance  ...  Department_sales  Department_support  \\\n",
            "0                            False  ...              True               False   \n",
            "1                            False  ...             False               False   \n",
            "2                            False  ...             False               False   \n",
            "3                            False  ...             False               False   \n",
            "4                            False  ...             False               False   \n",
            "...                            ...  ...               ...                 ...   \n",
            "15994                        False  ...             False               False   \n",
            "15995                        False  ...             False               False   \n",
            "15996                         True  ...             False               False   \n",
            "15997                        False  ...             False               False   \n",
            "15998                        False  ...             False               False   \n",
            "\n",
            "       Department_technical  Salary_high  Salary_low  Salary_medium  \\\n",
            "0                     False        False        True          False   \n",
            "1                     False        False        True          False   \n",
            "2                      True        False        True          False   \n",
            "3                     False        False       False           True   \n",
            "4                     False        False        True          False   \n",
            "...                     ...          ...         ...            ...   \n",
            "15994                 False        False        True          False   \n",
            "15995                 False         True       False          False   \n",
            "15996                 False         True       False          False   \n",
            "15997                 False         True       False          False   \n",
            "15998                 False        False        True          False   \n",
            "\n",
            "       Job_level_Entry_Level  Job_level_Executive  Job_level_Mid_Level  \\\n",
            "0                      False                False                False   \n",
            "1                       True                False                False   \n",
            "2                       True                False                False   \n",
            "3                      False                False                False   \n",
            "4                       True                False                False   \n",
            "...                      ...                  ...                  ...   \n",
            "15994                  False                False                False   \n",
            "15995                  False                 True                False   \n",
            "15996                  False                False                False   \n",
            "15997                   True                False                False   \n",
            "15998                  False                False                False   \n",
            "\n",
            "       Job_level_Senior_Level  \n",
            "0                        True  \n",
            "1                       False  \n",
            "2                       False  \n",
            "3                        True  \n",
            "4                       False  \n",
            "...                       ...  \n",
            "15994                    True  \n",
            "15995                   False  \n",
            "15996                    True  \n",
            "15997                   False  \n",
            "15998                    True  \n",
            "\n",
            "[15999 rows x 29 columns]\n"
          ]
        }
      ],
      "source": [
        "# data split target and feature\n",
        "\n",
        "cols=a\n",
        "X=df[cols]\n",
        "y=df['Employment_status']\n",
        "\n",
        "print(X)"
      ]
    },
    {
      "cell_type": "markdown",
      "metadata": {},
      "source": [
        " you can see we have 15999 row of data and 29 columns for our feature data"
      ]
    },
    {
      "cell_type": "code",
      "execution_count": 22,
      "metadata": {
        "colab": {},
        "colab_type": "code",
        "id": "gjVCLrePaYoq"
      },
      "outputs": [],
      "source": [
        "# splitting into training and testing\n",
        "\n",
        "X_train, X_test, y_train, y_test = train_test_split(X, y, test_size=0.3, random_state=0)"
      ]
    },
    {
      "cell_type": "markdown",
      "metadata": {
        "colab_type": "text",
        "id": "E6Iuftu9azKy"
      },
      "source": [
        "## ** K-Nearest Neighbor (KNN)**"
      ]
    },
    {
      "cell_type": "code",
      "execution_count": 23,
      "metadata": {},
      "outputs": [
        {
          "data": {
            "text/plain": [
              "0.9229166666666667"
            ]
          },
          "execution_count": 23,
          "metadata": {},
          "output_type": "execute_result"
        }
      ],
      "source": [
        "# CODE\n",
        "\n",
        "from sklearn.neighbors import KNeighborsClassifier\n",
        "from sklearn import neighbors\n",
        "\n",
        "# create an objet of the model\n",
        "\n",
        "knn = neighbors.KNeighborsClassifier()\n",
        "\n",
        "# fit the model\n",
        "\n",
        "knn.fit(X_train,y_train)\n",
        "\n",
        "# checking the score\n",
        "\n",
        "knn.score(X_test,y_test)"
      ]
    },
    {
      "cell_type": "code",
      "execution_count": 24,
      "metadata": {
        "colab": {
          "base_uri": "https://localhost:8080/",
          "height": 35
        },
        "colab_type": "code",
        "id": "9arUdsf4bAYO",
        "outputId": "556930cb-661a-463a-eeb9-15839e273540"
      },
      "outputs": [
        {
          "name": "stdout",
          "output_type": "stream",
          "text": [
            "Accuracy of model with k = 1: 0.9325\n",
            "\n",
            "Accuracy of model with k = 2: 0.938125\n",
            "\n",
            "Accuracy of model with k = 3: 0.925625\n",
            "\n",
            "Accuracy of model with k = 4: 0.9297916666666667\n",
            "\n",
            "Accuracy of model with k = 5: 0.9229166666666667\n",
            "\n",
            "Accuracy of model with k = 6: 0.9272916666666666\n",
            "\n",
            "Accuracy of model with k = 7: 0.9235416666666667\n",
            "\n",
            "Accuracy of model with k = 8: 0.9260416666666667\n",
            "\n",
            "Accuracy of model with k = 9: 0.920625\n",
            "\n"
          ]
        }
      ],
      "source": [
        "# testing value of K\n",
        "\n",
        "\n",
        "k_values = range(1,10)\n",
        "\n",
        " \n",
        "for k in k_values:\n",
        "    knn = KNeighborsClassifier(n_neighbors = k)\n",
        "    knn.fit(X_train, y_train)\n",
        "    target_pred = knn.predict(X_test)\n",
        "    accuracy = accuracy_score(y_test,target_pred ) \n",
        "    print(f'Accuracy of model with k = {k}: {accuracy}')\n",
        "    print('')\n",
        "\n"
      ]
    },
    {
      "cell_type": "code",
      "execution_count": 25,
      "metadata": {},
      "outputs": [
        {
          "data": {
            "text/plain": [
              "(15999, 30)"
            ]
          },
          "execution_count": 25,
          "metadata": {},
          "output_type": "execute_result"
        }
      ],
      "source": [
        "df.shape"
      ]
    },
    {
      "cell_type": "markdown",
      "metadata": {
        "colab_type": "text",
        "id": "XIiCbntcbF7w"
      },
      "source": [
        "## **Random Forest**"
      ]
    },
    {
      "cell_type": "code",
      "execution_count": null,
      "metadata": {
        "colab": {
          "base_uri": "https://localhost:8080/",
          "height": 141
        },
        "colab_type": "code",
        "id": "ENmRHlifbSPC",
        "outputId": "05e79d2d-7ea3-4e86-dc12-9f68a8d48022"
      },
      "outputs": [
        {
          "data": {
            "text/html": [
              "<style>#sk-container-id-1 {\n",
              "  /* Definition of color scheme common for light and dark mode */\n",
              "  --sklearn-color-text: #000;\n",
              "  --sklearn-color-text-muted: #666;\n",
              "  --sklearn-color-line: gray;\n",
              "  /* Definition of color scheme for unfitted estimators */\n",
              "  --sklearn-color-unfitted-level-0: #fff5e6;\n",
              "  --sklearn-color-unfitted-level-1: #f6e4d2;\n",
              "  --sklearn-color-unfitted-level-2: #ffe0b3;\n",
              "  --sklearn-color-unfitted-level-3: chocolate;\n",
              "  /* Definition of color scheme for fitted estimators */\n",
              "  --sklearn-color-fitted-level-0: #f0f8ff;\n",
              "  --sklearn-color-fitted-level-1: #d4ebff;\n",
              "  --sklearn-color-fitted-level-2: #b3dbfd;\n",
              "  --sklearn-color-fitted-level-3: cornflowerblue;\n",
              "\n",
              "  /* Specific color for light theme */\n",
              "  --sklearn-color-text-on-default-background: var(--sg-text-color, var(--theme-code-foreground, var(--jp-content-font-color1, black)));\n",
              "  --sklearn-color-background: var(--sg-background-color, var(--theme-background, var(--jp-layout-color0, white)));\n",
              "  --sklearn-color-border-box: var(--sg-text-color, var(--theme-code-foreground, var(--jp-content-font-color1, black)));\n",
              "  --sklearn-color-icon: #696969;\n",
              "\n",
              "  @media (prefers-color-scheme: dark) {\n",
              "    /* Redefinition of color scheme for dark theme */\n",
              "    --sklearn-color-text-on-default-background: var(--sg-text-color, var(--theme-code-foreground, var(--jp-content-font-color1, white)));\n",
              "    --sklearn-color-background: var(--sg-background-color, var(--theme-background, var(--jp-layout-color0, #111)));\n",
              "    --sklearn-color-border-box: var(--sg-text-color, var(--theme-code-foreground, var(--jp-content-font-color1, white)));\n",
              "    --sklearn-color-icon: #878787;\n",
              "  }\n",
              "}\n",
              "\n",
              "#sk-container-id-1 {\n",
              "  color: var(--sklearn-color-text);\n",
              "}\n",
              "\n",
              "#sk-container-id-1 pre {\n",
              "  padding: 0;\n",
              "}\n",
              "\n",
              "#sk-container-id-1 input.sk-hidden--visually {\n",
              "  border: 0;\n",
              "  clip: rect(1px 1px 1px 1px);\n",
              "  clip: rect(1px, 1px, 1px, 1px);\n",
              "  height: 1px;\n",
              "  margin: -1px;\n",
              "  overflow: hidden;\n",
              "  padding: 0;\n",
              "  position: absolute;\n",
              "  width: 1px;\n",
              "}\n",
              "\n",
              "#sk-container-id-1 div.sk-dashed-wrapped {\n",
              "  border: 1px dashed var(--sklearn-color-line);\n",
              "  margin: 0 0.4em 0.5em 0.4em;\n",
              "  box-sizing: border-box;\n",
              "  padding-bottom: 0.4em;\n",
              "  background-color: var(--sklearn-color-background);\n",
              "}\n",
              "\n",
              "#sk-container-id-1 div.sk-container {\n",
              "  /* jupyter's `normalize.less` sets `[hidden] { display: none; }`\n",
              "     but bootstrap.min.css set `[hidden] { display: none !important; }`\n",
              "     so we also need the `!important` here to be able to override the\n",
              "     default hidden behavior on the sphinx rendered scikit-learn.org.\n",
              "     See: https://github.com/scikit-learn/scikit-learn/issues/21755 */\n",
              "  display: inline-block !important;\n",
              "  position: relative;\n",
              "}\n",
              "\n",
              "#sk-container-id-1 div.sk-text-repr-fallback {\n",
              "  display: none;\n",
              "}\n",
              "\n",
              "div.sk-parallel-item,\n",
              "div.sk-serial,\n",
              "div.sk-item {\n",
              "  /* draw centered vertical line to link estimators */\n",
              "  background-image: linear-gradient(var(--sklearn-color-text-on-default-background), var(--sklearn-color-text-on-default-background));\n",
              "  background-size: 2px 100%;\n",
              "  background-repeat: no-repeat;\n",
              "  background-position: center center;\n",
              "}\n",
              "\n",
              "/* Parallel-specific style estimator block */\n",
              "\n",
              "#sk-container-id-1 div.sk-parallel-item::after {\n",
              "  content: \"\";\n",
              "  width: 100%;\n",
              "  border-bottom: 2px solid var(--sklearn-color-text-on-default-background);\n",
              "  flex-grow: 1;\n",
              "}\n",
              "\n",
              "#sk-container-id-1 div.sk-parallel {\n",
              "  display: flex;\n",
              "  align-items: stretch;\n",
              "  justify-content: center;\n",
              "  background-color: var(--sklearn-color-background);\n",
              "  position: relative;\n",
              "}\n",
              "\n",
              "#sk-container-id-1 div.sk-parallel-item {\n",
              "  display: flex;\n",
              "  flex-direction: column;\n",
              "}\n",
              "\n",
              "#sk-container-id-1 div.sk-parallel-item:first-child::after {\n",
              "  align-self: flex-end;\n",
              "  width: 50%;\n",
              "}\n",
              "\n",
              "#sk-container-id-1 div.sk-parallel-item:last-child::after {\n",
              "  align-self: flex-start;\n",
              "  width: 50%;\n",
              "}\n",
              "\n",
              "#sk-container-id-1 div.sk-parallel-item:only-child::after {\n",
              "  width: 0;\n",
              "}\n",
              "\n",
              "/* Serial-specific style estimator block */\n",
              "\n",
              "#sk-container-id-1 div.sk-serial {\n",
              "  display: flex;\n",
              "  flex-direction: column;\n",
              "  align-items: center;\n",
              "  background-color: var(--sklearn-color-background);\n",
              "  padding-right: 1em;\n",
              "  padding-left: 1em;\n",
              "}\n",
              "\n",
              "\n",
              "/* Toggleable style: style used for estimator/Pipeline/ColumnTransformer box that is\n",
              "clickable and can be expanded/collapsed.\n",
              "- Pipeline and ColumnTransformer use this feature and define the default style\n",
              "- Estimators will overwrite some part of the style using the `sk-estimator` class\n",
              "*/\n",
              "\n",
              "/* Pipeline and ColumnTransformer style (default) */\n",
              "\n",
              "#sk-container-id-1 div.sk-toggleable {\n",
              "  /* Default theme specific background. It is overwritten whether we have a\n",
              "  specific estimator or a Pipeline/ColumnTransformer */\n",
              "  background-color: var(--sklearn-color-background);\n",
              "}\n",
              "\n",
              "/* Toggleable label */\n",
              "#sk-container-id-1 label.sk-toggleable__label {\n",
              "  cursor: pointer;\n",
              "  display: flex;\n",
              "  width: 100%;\n",
              "  margin-bottom: 0;\n",
              "  padding: 0.5em;\n",
              "  box-sizing: border-box;\n",
              "  text-align: center;\n",
              "  align-items: start;\n",
              "  justify-content: space-between;\n",
              "  gap: 0.5em;\n",
              "}\n",
              "\n",
              "#sk-container-id-1 label.sk-toggleable__label .caption {\n",
              "  font-size: 0.6rem;\n",
              "  font-weight: lighter;\n",
              "  color: var(--sklearn-color-text-muted);\n",
              "}\n",
              "\n",
              "#sk-container-id-1 label.sk-toggleable__label-arrow:before {\n",
              "  /* Arrow on the left of the label */\n",
              "  content: \"▸\";\n",
              "  float: left;\n",
              "  margin-right: 0.25em;\n",
              "  color: var(--sklearn-color-icon);\n",
              "}\n",
              "\n",
              "#sk-container-id-1 label.sk-toggleable__label-arrow:hover:before {\n",
              "  color: var(--sklearn-color-text);\n",
              "}\n",
              "\n",
              "/* Toggleable content - dropdown */\n",
              "\n",
              "#sk-container-id-1 div.sk-toggleable__content {\n",
              "  max-height: 0;\n",
              "  max-width: 0;\n",
              "  overflow: hidden;\n",
              "  text-align: left;\n",
              "  /* unfitted */\n",
              "  background-color: var(--sklearn-color-unfitted-level-0);\n",
              "}\n",
              "\n",
              "#sk-container-id-1 div.sk-toggleable__content.fitted {\n",
              "  /* fitted */\n",
              "  background-color: var(--sklearn-color-fitted-level-0);\n",
              "}\n",
              "\n",
              "#sk-container-id-1 div.sk-toggleable__content pre {\n",
              "  margin: 0.2em;\n",
              "  border-radius: 0.25em;\n",
              "  color: var(--sklearn-color-text);\n",
              "  /* unfitted */\n",
              "  background-color: var(--sklearn-color-unfitted-level-0);\n",
              "}\n",
              "\n",
              "#sk-container-id-1 div.sk-toggleable__content.fitted pre {\n",
              "  /* unfitted */\n",
              "  background-color: var(--sklearn-color-fitted-level-0);\n",
              "}\n",
              "\n",
              "#sk-container-id-1 input.sk-toggleable__control:checked~div.sk-toggleable__content {\n",
              "  /* Expand drop-down */\n",
              "  max-height: 200px;\n",
              "  max-width: 100%;\n",
              "  overflow: auto;\n",
              "}\n",
              "\n",
              "#sk-container-id-1 input.sk-toggleable__control:checked~label.sk-toggleable__label-arrow:before {\n",
              "  content: \"▾\";\n",
              "}\n",
              "\n",
              "/* Pipeline/ColumnTransformer-specific style */\n",
              "\n",
              "#sk-container-id-1 div.sk-label input.sk-toggleable__control:checked~label.sk-toggleable__label {\n",
              "  color: var(--sklearn-color-text);\n",
              "  background-color: var(--sklearn-color-unfitted-level-2);\n",
              "}\n",
              "\n",
              "#sk-container-id-1 div.sk-label.fitted input.sk-toggleable__control:checked~label.sk-toggleable__label {\n",
              "  background-color: var(--sklearn-color-fitted-level-2);\n",
              "}\n",
              "\n",
              "/* Estimator-specific style */\n",
              "\n",
              "/* Colorize estimator box */\n",
              "#sk-container-id-1 div.sk-estimator input.sk-toggleable__control:checked~label.sk-toggleable__label {\n",
              "  /* unfitted */\n",
              "  background-color: var(--sklearn-color-unfitted-level-2);\n",
              "}\n",
              "\n",
              "#sk-container-id-1 div.sk-estimator.fitted input.sk-toggleable__control:checked~label.sk-toggleable__label {\n",
              "  /* fitted */\n",
              "  background-color: var(--sklearn-color-fitted-level-2);\n",
              "}\n",
              "\n",
              "#sk-container-id-1 div.sk-label label.sk-toggleable__label,\n",
              "#sk-container-id-1 div.sk-label label {\n",
              "  /* The background is the default theme color */\n",
              "  color: var(--sklearn-color-text-on-default-background);\n",
              "}\n",
              "\n",
              "/* On hover, darken the color of the background */\n",
              "#sk-container-id-1 div.sk-label:hover label.sk-toggleable__label {\n",
              "  color: var(--sklearn-color-text);\n",
              "  background-color: var(--sklearn-color-unfitted-level-2);\n",
              "}\n",
              "\n",
              "/* Label box, darken color on hover, fitted */\n",
              "#sk-container-id-1 div.sk-label.fitted:hover label.sk-toggleable__label.fitted {\n",
              "  color: var(--sklearn-color-text);\n",
              "  background-color: var(--sklearn-color-fitted-level-2);\n",
              "}\n",
              "\n",
              "/* Estimator label */\n",
              "\n",
              "#sk-container-id-1 div.sk-label label {\n",
              "  font-family: monospace;\n",
              "  font-weight: bold;\n",
              "  display: inline-block;\n",
              "  line-height: 1.2em;\n",
              "}\n",
              "\n",
              "#sk-container-id-1 div.sk-label-container {\n",
              "  text-align: center;\n",
              "}\n",
              "\n",
              "/* Estimator-specific */\n",
              "#sk-container-id-1 div.sk-estimator {\n",
              "  font-family: monospace;\n",
              "  border: 1px dotted var(--sklearn-color-border-box);\n",
              "  border-radius: 0.25em;\n",
              "  box-sizing: border-box;\n",
              "  margin-bottom: 0.5em;\n",
              "  /* unfitted */\n",
              "  background-color: var(--sklearn-color-unfitted-level-0);\n",
              "}\n",
              "\n",
              "#sk-container-id-1 div.sk-estimator.fitted {\n",
              "  /* fitted */\n",
              "  background-color: var(--sklearn-color-fitted-level-0);\n",
              "}\n",
              "\n",
              "/* on hover */\n",
              "#sk-container-id-1 div.sk-estimator:hover {\n",
              "  /* unfitted */\n",
              "  background-color: var(--sklearn-color-unfitted-level-2);\n",
              "}\n",
              "\n",
              "#sk-container-id-1 div.sk-estimator.fitted:hover {\n",
              "  /* fitted */\n",
              "  background-color: var(--sklearn-color-fitted-level-2);\n",
              "}\n",
              "\n",
              "/* Specification for estimator info (e.g. \"i\" and \"?\") */\n",
              "\n",
              "/* Common style for \"i\" and \"?\" */\n",
              "\n",
              ".sk-estimator-doc-link,\n",
              "a:link.sk-estimator-doc-link,\n",
              "a:visited.sk-estimator-doc-link {\n",
              "  float: right;\n",
              "  font-size: smaller;\n",
              "  line-height: 1em;\n",
              "  font-family: monospace;\n",
              "  background-color: var(--sklearn-color-background);\n",
              "  border-radius: 1em;\n",
              "  height: 1em;\n",
              "  width: 1em;\n",
              "  text-decoration: none !important;\n",
              "  margin-left: 0.5em;\n",
              "  text-align: center;\n",
              "  /* unfitted */\n",
              "  border: var(--sklearn-color-unfitted-level-1) 1pt solid;\n",
              "  color: var(--sklearn-color-unfitted-level-1);\n",
              "}\n",
              "\n",
              ".sk-estimator-doc-link.fitted,\n",
              "a:link.sk-estimator-doc-link.fitted,\n",
              "a:visited.sk-estimator-doc-link.fitted {\n",
              "  /* fitted */\n",
              "  border: var(--sklearn-color-fitted-level-1) 1pt solid;\n",
              "  color: var(--sklearn-color-fitted-level-1);\n",
              "}\n",
              "\n",
              "/* On hover */\n",
              "div.sk-estimator:hover .sk-estimator-doc-link:hover,\n",
              ".sk-estimator-doc-link:hover,\n",
              "div.sk-label-container:hover .sk-estimator-doc-link:hover,\n",
              ".sk-estimator-doc-link:hover {\n",
              "  /* unfitted */\n",
              "  background-color: var(--sklearn-color-unfitted-level-3);\n",
              "  color: var(--sklearn-color-background);\n",
              "  text-decoration: none;\n",
              "}\n",
              "\n",
              "div.sk-estimator.fitted:hover .sk-estimator-doc-link.fitted:hover,\n",
              ".sk-estimator-doc-link.fitted:hover,\n",
              "div.sk-label-container:hover .sk-estimator-doc-link.fitted:hover,\n",
              ".sk-estimator-doc-link.fitted:hover {\n",
              "  /* fitted */\n",
              "  background-color: var(--sklearn-color-fitted-level-3);\n",
              "  color: var(--sklearn-color-background);\n",
              "  text-decoration: none;\n",
              "}\n",
              "\n",
              "/* Span, style for the box shown on hovering the info icon */\n",
              ".sk-estimator-doc-link span {\n",
              "  display: none;\n",
              "  z-index: 9999;\n",
              "  position: relative;\n",
              "  font-weight: normal;\n",
              "  right: .2ex;\n",
              "  padding: .5ex;\n",
              "  margin: .5ex;\n",
              "  width: min-content;\n",
              "  min-width: 20ex;\n",
              "  max-width: 50ex;\n",
              "  color: var(--sklearn-color-text);\n",
              "  box-shadow: 2pt 2pt 4pt #999;\n",
              "  /* unfitted */\n",
              "  background: var(--sklearn-color-unfitted-level-0);\n",
              "  border: .5pt solid var(--sklearn-color-unfitted-level-3);\n",
              "}\n",
              "\n",
              ".sk-estimator-doc-link.fitted span {\n",
              "  /* fitted */\n",
              "  background: var(--sklearn-color-fitted-level-0);\n",
              "  border: var(--sklearn-color-fitted-level-3);\n",
              "}\n",
              "\n",
              ".sk-estimator-doc-link:hover span {\n",
              "  display: block;\n",
              "}\n",
              "\n",
              "/* \"?\"-specific style due to the `<a>` HTML tag */\n",
              "\n",
              "#sk-container-id-1 a.estimator_doc_link {\n",
              "  float: right;\n",
              "  font-size: 1rem;\n",
              "  line-height: 1em;\n",
              "  font-family: monospace;\n",
              "  background-color: var(--sklearn-color-background);\n",
              "  border-radius: 1rem;\n",
              "  height: 1rem;\n",
              "  width: 1rem;\n",
              "  text-decoration: none;\n",
              "  /* unfitted */\n",
              "  color: var(--sklearn-color-unfitted-level-1);\n",
              "  border: var(--sklearn-color-unfitted-level-1) 1pt solid;\n",
              "}\n",
              "\n",
              "#sk-container-id-1 a.estimator_doc_link.fitted {\n",
              "  /* fitted */\n",
              "  border: var(--sklearn-color-fitted-level-1) 1pt solid;\n",
              "  color: var(--sklearn-color-fitted-level-1);\n",
              "}\n",
              "\n",
              "/* On hover */\n",
              "#sk-container-id-1 a.estimator_doc_link:hover {\n",
              "  /* unfitted */\n",
              "  background-color: var(--sklearn-color-unfitted-level-3);\n",
              "  color: var(--sklearn-color-background);\n",
              "  text-decoration: none;\n",
              "}\n",
              "\n",
              "#sk-container-id-1 a.estimator_doc_link.fitted:hover {\n",
              "  /* fitted */\n",
              "  background-color: var(--sklearn-color-fitted-level-3);\n",
              "}\n",
              "</style><div id=\"sk-container-id-1\" class=\"sk-top-container\"><div class=\"sk-text-repr-fallback\"><pre>RandomForestClassifier(criterion=&#x27;entropy&#x27;)</pre><b>In a Jupyter environment, please rerun this cell to show the HTML representation or trust the notebook. <br />On GitHub, the HTML representation is unable to render, please try loading this page with nbviewer.org.</b></div><div class=\"sk-container\" hidden><div class=\"sk-item\"><div class=\"sk-estimator fitted sk-toggleable\"><input class=\"sk-toggleable__control sk-hidden--visually\" id=\"sk-estimator-id-1\" type=\"checkbox\" checked><label for=\"sk-estimator-id-1\" class=\"sk-toggleable__label fitted sk-toggleable__label-arrow\"><div><div>RandomForestClassifier</div></div><div><a class=\"sk-estimator-doc-link fitted\" rel=\"noreferrer\" target=\"_blank\" href=\"https://scikit-learn.org/1.6/modules/generated/sklearn.ensemble.RandomForestClassifier.html\">?<span>Documentation for RandomForestClassifier</span></a><span class=\"sk-estimator-doc-link fitted\">i<span>Fitted</span></span></div></label><div class=\"sk-toggleable__content fitted\"><pre>RandomForestClassifier(criterion=&#x27;entropy&#x27;)</pre></div> </div></div></div></div>"
            ],
            "text/plain": [
              "RandomForestClassifier(criterion='entropy')"
            ]
          },
          "execution_count": 26,
          "metadata": {},
          "output_type": "execute_result"
        }
      ],
      "source": [
        "from sklearn.ensemble import RandomForestClassifier\n",
        "rf = RandomForestClassifier(criterion='entropy',)\n",
        "from sklearn.tree import DecisionTreeClassifier\n",
        "import matplotlib.pyplot as plt\n",
        "from sklearn.tree import plot_tree\n"
      ]
    },
    {
      "cell_type": "code",
      "execution_count": null,
      "metadata": {
        "colab": {
          "base_uri": "https://localhost:8080/",
          "height": 35
        },
        "colab_type": "code",
        "id": "cPkvglsibWPf",
        "outputId": "aabaebca-455f-470b-d6d5-005c59661300"
      },
      "outputs": [
        {
          "name": "stdout",
          "output_type": "stream",
          "text": [
            "Random Forest Accuracy is: 0.953\n"
          ]
        }
      ],
      "source": [
        "rf.fit(X_train, y_train)\n",
        "\n",
        "print('Random Forest Accuracy is: {:.3f}'.format(accuracy_score(y_test, rf.predict(X_test))))\n",
        "\n",
        "\n",
        "ds = rf.estimators_[1]\n",
        "\n",
        "# plt.figure(figsize=(50,30), dpi=250)\n",
        "\n",
        "# plot_tree(ds, fontsize=20,filled=True,feature_names=X.columns)\n"
      ]
    },
    {
      "cell_type": "markdown",
      "metadata": {
        "colab_type": "text",
        "id": "O9FAJHyFbalo"
      },
      "source": [
        "As you can see, Random Forest has the highest accuracy. Let's now cross validate the model"
      ]
    },
    {
      "cell_type": "markdown",
      "metadata": {
        "colab_type": "text",
        "id": "X9Kc1ASFbmG-"
      },
      "source": [
        "## **CART **"
      ]
    },
    {
      "cell_type": "code",
      "execution_count": 28,
      "metadata": {
        "colab": {
          "base_uri": "https://localhost:8080/",
          "height": 35
        },
        "colab_type": "code",
        "id": "fdbdKkeWbhDO",
        "outputId": "b70418da-8eab-4c8b-d579-b2dd7f99970e"
      },
      "outputs": [
        {
          "name": "stdout",
          "output_type": "stream",
          "text": [
            "Accuracy score of CART using Geni by default is : 0.943125\n"
          ]
        }
      ],
      "source": [
        "from sklearn.tree import DecisionTreeClassifier\n",
        "import matplotlib.pyplot as plt\n",
        "from sklearn.tree import plot_tree\n",
        "\n",
        "model_cart = DecisionTreeClassifier()\n",
        "# fitting the model\n",
        "\n",
        "model_cart.fit(X_train, y_train)\n",
        "\n",
        "# predict\n",
        "cartPredict = model_cart.predict(X_test)\n",
        "acc = model_cart.score(X_test,y_test)\n",
        "print(f'Accuracy score of CART using Geni by default is : {acc}')\n",
        "\n",
        "# display of the tree  \n",
        "\n",
        "# plt.figure(figsize=(50,30), dpi=250)\n",
        "# plot_tree(model_cart, fontsize=20,filled=True,feature_names=X.columns)"
      ]
    },
    {
      "cell_type": "markdown",
      "metadata": {},
      "source": [
        "#  clustering (Kmeans)"
      ]
    },
    {
      "cell_type": "code",
      "execution_count": null,
      "metadata": {},
      "outputs": [
        {
          "name": "stdout",
          "output_type": "stream",
          "text": [
            "label : [1 0 1 ... 0 1 0]\n",
            "centers : [[6.06721444e-01 7.09558563e-01 3.22485366e-01 4.72479229e-01\n",
            "  3.52360238e-01 1.60625101e-01 3.99548896e-02 2.61156758e-01\n",
            "  9.84372483e-02 1.17609151e-02 9.02207185e-03 1.09553730e-02\n",
            "  6.10600934e-02 9.98872241e-03 6.07378766e-02 5.62268407e-02\n",
            "  4.78492025e-02 7.05654906e-02 7.45932012e-02 8.47430321e-02\n",
            "  1.77702594e-01 2.26357338e-01 9.84372483e-02 4.73980989e-01\n",
            "  4.27581763e-01 2.12502014e-01 2.23779604e-01 4.44089210e-16\n",
            "  5.63718382e-01]\n",
            " [6.05205270e-01 6.98537582e-01 3.24232934e-01 4.69821848e-01\n",
            "  3.63204657e-01 1.69321895e-01 5.67810458e-02 7.02920752e-01\n",
            "  6.29084967e-02 1.96078431e-02 1.87908497e-02 1.76674837e-02\n",
            "  4.16666667e-02 1.96078431e-02 3.98284314e-02 3.98284314e-02\n",
            "  3.40073529e-02 4.28921569e-02 4.48325163e-02 3.69076797e-01\n",
            "  1.14991830e-01 1.34293301e-01 9.86519608e-02 4.80085784e-01\n",
            "  4.21262255e-01 2.64910131e-01 2.82271242e-01 4.02369281e-01\n",
            "  5.04493464e-02]]\n",
            "\n",
            " \n",
            " cross tab display of our cluster\n",
            "\n",
            " \n",
            "Cluster     0     1\n",
            "Actual             \n",
            "0        4678  7241\n",
            "1        1529  2551\n"
          ]
        },
        {
          "data": {
            "image/png": "[encoded data removed]",
            "text/plain": [
              "<Figure size 640x480 with 1 Axes>"
            ]
          },
          "metadata": {},
          "output_type": "display_data"
        }
      ],
      "source": [
        "import numpy as np\n",
        "import pandas as pd\n",
        "import matplotlib.pyplot as plt\n",
        "from sklearn.cluster import KMeans\n",
        "# from sklearn.decomposition import PCA\n",
        "from sklearn.preprocessing import MinMaxScaler \n",
        "\n",
        "# Splitting the dataset\n",
        "attr = X # features\n",
        "scaler = MinMaxScaler()\n",
        "attr = pd.DataFrame(scaler.fit_transform(attr), columns=attr.columns)\n",
        "attr.head()\n",
        "\n",
        "# model fit \n",
        "\n",
        "num_clusters = 2 # leave or stayed\n",
        "kmeans = KMeans(n_clusters=num_clusters, random_state=12)\n",
        "kmeans.fit(attr)\n",
        "labels = kmeans.labels_\n",
        "centers = kmeans.cluster_centers_\n",
        "\n",
        "# cluster detail\n",
        "\n",
        "\n",
        "print(f'label : {labels} \\n')\n",
        "print(f'centers : {centers}')\n",
        "\n",
        "# cross tab \n",
        "\n",
        "df_cluster=pd.DataFrame({'Actual':y,'Cluster':labels})\n",
        "# Create a cross-tabulation\n",
        "cross_tab = pd.crosstab(df_cluster['Actual'], df_cluster['Cluster'])\n",
        "\n",
        "print('\\n \\n cross tab display of our cluster') \n",
        "print('\\n ')\n",
        "\n",
        "\n",
        "print(cross_tab)\n",
        "\n",
        "\n",
        "sse = {}\n",
        "for k in range(1, 10):\n",
        "    kmeans = KMeans(n_clusters=k, max_iter=1000).fit(attr)\n",
        "    attr[\"clusters\"] = kmeans.labels_\n",
        "    #print(data[\"clusters\"])\n",
        "    sse[k] = kmeans.inertia_ # Inertia: Sum of distances of samples to their closest cluster center\n",
        "plt.figure()\n",
        "plt.plot(list(sse.keys()), list(sse.values()))\n",
        "plt.xlabel(\"Number of cluster\")\n",
        "plt.ylabel(\"SSE\")\n",
        "plt.show()\n",
        "\n",
        "\n",
        "\n",
        "\n",
        "\n",
        "\n",
        "\n",
        "\n",
        "\n"
      ]
    },
    {
      "cell_type": "markdown",
      "metadata": {
        "colab_type": "text",
        "id": "1lO9ln2Rbzqi"
      },
      "source": [
        "## **Precision and Recall**"
      ]
    },
    {
      "cell_type": "markdown",
      "metadata": {
        "colab_type": "text",
        "id": "yEMv9AHPcU0p"
      },
      "source": [
        "When an employee left, how often does my classifier predict that correctly?"
      ]
    },
    {
      "cell_type": "code",
      "execution_count": null,
      "metadata": {
        "colab": {
          "base_uri": "https://localhost:8080/",
          "height": 141
        },
        "colab_type": "code",
        "id": "-Cw21O5-btJf",
        "outputId": "38b25d35-3345-426a-fff0-51581a6088f1"
      },
      "outputs": [
        {
          "name": "stdout",
          "output_type": "stream",
          "text": [
            "              precision    recall  f1-score   support\n",
            "\n",
            "           0       0.95      0.98      0.97      3593\n",
            "           1       0.94      0.86      0.90      1207\n",
            "\n",
            "    accuracy                           0.95      4800\n",
            "   macro avg       0.95      0.92      0.93      4800\n",
            "weighted avg       0.95      0.95      0.95      4800\n",
            "\n"
          ]
        }
      ],
      "source": [
        "# random forest precision recall\n",
        "\n",
        "from sklearn.metrics import classification_report\n",
        "print(classification_report(y_test, rf.predict(X_test)))"
      ]
    },
    {
      "cell_type": "code",
      "execution_count": null,
      "metadata": {
        "colab": {
          "base_uri": "https://localhost:8080/",
          "height": 376
        },
        "colab_type": "code",
        "id": "EhekWJ0Yc0QI",
        "outputId": "3203c9bf-3dc9-42e3-c3a3-7d7de84bd3f4"
      },
      "outputs": [
        {
          "data": {
            "image/png": "[encoded data removed]",
            "text/plain": [
              "<Figure size 640x480 with 2 Axes>"
            ]
          },
          "metadata": {},
          "output_type": "display_data"
        }
      ],
      "source": [
        "# RF confusion metrics\n",
        "\n",
        "y_pred = rf.predict(X_test)\n",
        "from sklearn.metrics import confusion_matrix\n",
        "import sklearn.metrics as metrics\n",
        "import seaborn as sns\n",
        "forest_cm = metrics.confusion_matrix(y_pred, y_test)\n",
        "sns.heatmap(forest_cm, annot=True, fmt='.2f',xticklabels = [\"Stayed\", \"Left\"] , yticklabels = [\"Stayed\", \"Left\"] )\n",
        "plt.ylabel('True class')\n",
        "plt.xlabel('Predicted class')\n",
        "plt.title('Random Forest')\n",
        "plt.savefig('random_forest')"
      ]
    },
    {
      "cell_type": "code",
      "execution_count": null,
      "metadata": {
        "colab": {
          "base_uri": "https://localhost:8080/",
          "height": 141
        },
        "colab_type": "code",
        "id": "OrBkpynic-Ta",
        "outputId": "79fa53e8-6184-47e8-b2d7-eca84ad08372"
      },
      "outputs": [
        {
          "name": "stdout",
          "output_type": "stream",
          "text": [
            "              precision    recall  f1-score   support\n",
            "\n",
            "           0       0.96      0.96      0.96      3593\n",
            "           1       0.88      0.90      0.89      1207\n",
            "\n",
            "    accuracy                           0.94      4800\n",
            "   macro avg       0.92      0.93      0.92      4800\n",
            "weighted avg       0.94      0.94      0.94      4800\n",
            "\n"
          ]
        }
      ],
      "source": [
        "# CART precision recall\n",
        "\n",
        "\n",
        "print(classification_report(y_test, model_cart.predict(X_test)))\n"
      ]
    },
    {
      "cell_type": "code",
      "execution_count": 44,
      "metadata": {},
      "outputs": [
        {
          "name": "stdout",
          "output_type": "stream",
          "text": [
            "              precision    recall  f1-score   support\n",
            "\n",
            "           0       0.95      0.95      0.95      3593\n",
            "           1       0.85      0.84      0.84      1207\n",
            "\n",
            "    accuracy                           0.92      4800\n",
            "   macro avg       0.90      0.89      0.89      4800\n",
            "weighted avg       0.92      0.92      0.92      4800\n",
            "\n"
          ]
        }
      ],
      "source": [
        "# KNN precision recall\n",
        "\n",
        "\n",
        "print(classification_report(y_test, knn.predict(X_test)))\n"
      ]
    },
    {
      "cell_type": "code",
      "execution_count": 46,
      "metadata": {},
      "outputs": [
        {
          "data": {
            "image/png": "[encoded data removed]",
            "text/plain": [
              "<Figure size 640x480 with 2 Axes>"
            ]
          },
          "metadata": {},
          "output_type": "display_data"
        }
      ],
      "source": [
        "# KNN confusion metrics\n",
        "\n",
        "cart_y_pred = knn.predict(X_test)\n",
        "cart_cm = metrics.confusion_matrix(cart_y_pred, y_test)\n",
        "sns.heatmap(cart_cm, annot=True, fmt='.2f',xticklabels = [\"Stayed\", \"Left\"] , yticklabels = [\"Stayed\", \"Left\"] )\n",
        "plt.ylabel('True class')\n",
        "plt.xlabel('Predicted class')\n",
        "plt.title('KNN')\n",
        "plt.savefig('KNN_machine')"
      ]
    },
    {
      "cell_type": "code",
      "execution_count": 43,
      "metadata": {
        "colab": {
          "base_uri": "https://localhost:8080/",
          "height": 376
        },
        "colab_type": "code",
        "id": "OrUobr0IdDjE",
        "outputId": "807c4626-9206-48da-9385-b087d20ef9ae"
      },
      "outputs": [
        {
          "data": {
            "image/png": "[encoded data removed]",
            "text/plain": [
              "<Figure size 640x480 with 2 Axes>"
            ]
          },
          "metadata": {},
          "output_type": "display_data"
        }
      ],
      "source": [
        "# CART confusion metrics\n",
        "\n",
        "cart_y_pred = model_cart.predict(X_test)\n",
        "cart_cm = metrics.confusion_matrix(cart_y_pred, y_test)\n",
        "sns.heatmap(cart_cm, annot=True, fmt='.2f',xticklabels = [\"Stayed\", \"Left\"] , yticklabels = [\"Stayed\", \"Left\"] )\n",
        "plt.ylabel('True class')\n",
        "plt.xlabel('Predicted class')\n",
        "plt.title('CART')\n",
        "plt.savefig('CART_machine')"
      ]
    },
    {
      "cell_type": "markdown",
      "metadata": {
        "colab_type": "text",
        "id": "hvhaoR_HdKe7"
      },
      "source": [
        "Out of all the turnover cases, random forest correctly retrieved 991 out of 1038. This translates to a turnover \"recall\" of about 95% (991/1038), far better than logistic regression (26%) or support vector machines (85%).\n",
        "\n",
        "***When a classifier predicts an employee will leave, how often does that employee actually leave?***\n",
        "This measurement is called \"precision\". Random forest again out preforms the other two at about 95% precision (991 out of 1045) with logistic regression at about 51% (273 out of 540), and support vector machine at about 77% (890 out of 1150)."
      ]
    },
    {
      "cell_type": "markdown",
      "metadata": {
        "colab_type": "text",
        "id": "I2x6H5ZOeAi9"
      },
      "source": [
        "# **Key factors of employee turnover **"
      ]
    },
    {
      "cell_type": "code",
      "execution_count": null,
      "metadata": {
        "colab": {
          "base_uri": "https://localhost:8080/",
          "height": 195
        },
        "colab_type": "code",
        "id": "4coo5l2gdpcN",
        "outputId": "99480d24-19ae-4648-93d3-4cb1182f8f98"
      },
      "outputs": [
        {
          "name": "stdout",
          "output_type": "stream",
          "text": [
            "Department_marketing-0.14%\n",
            "Department_product_mng-0.14%\n",
            "Department_IT-0.15%\n",
            "Department_management-0.16%\n",
            "Department_RandD-0.18%\n",
            "Department_accounting-0.19%\n",
            "Department_hr-0.19%\n",
            "Department_support-0.33%\n",
            "Department_technical-0.40%\n",
            "Department_sales-0.41%\n",
            "Job_level_Senior_Level-0.50%\n",
            "Job_level_Mid_Level-0.50%\n",
            "Salary_medium-0.52%\n",
            "Bonus-0.52%\n",
            "Job_level_Entry_Level-0.55%\n",
            "Job_level_Executive-0.56%\n",
            "Department_Logistic-0.59%\n",
            "Salary_high-0.63%\n",
            "Salary_low-0.75%\n",
            "Promotion_History-0.82%\n",
            "Department_Quality_Assurance-0.86%\n",
            "Department_Supply_Chain-0.91%\n",
            "Department_Legal_Compliance-1.03%\n",
            "Work_accident-1.07%\n",
            "Performance_Score-11.53%\n",
            "Montly_Hours-14.93%\n",
            "Tenure-16.29%\n",
            "Realised_Project-16.75%\n",
            "Satisfaction_Score-28.41%\n"
          ]
        }
      ],
      "source": [
        "import numpy as np\n",
        "feature_labels = np.array(a)\n",
        "importance = rf.feature_importances_\n",
        "feature_indexes_by_importance = importance.argsort()\n",
        "for index in feature_indexes_by_importance:\n",
        "    print('{}-{:.2f}%'.format(feature_labels[index], (importance[index] *100.0)))"
      ]
    },
    {
      "cell_type": "markdown",
      "metadata": {},
      "source": [
        "#Satisfaction_Score-28.41% "
      ]
    }
  ],
  "metadata": {
    "colab": {
      "collapsed_sections": [],
      "name": "employee_turnover_prediction.ipynb",
      "provenance": [],
      "version": "0.3.2"
    },
    "kernelspec": {
      "display_name": "base",
      "language": "python",
      "name": "python3"
    },
    "language_info": {
      "codemirror_mode": {
        "name": "ipython",
        "version": 3
      },
      "file_extension": ".py",
      "mimetype": "text/x-python",
      "name": "python",
      "nbconvert_exporter": "python",
      "pygments_lexer": "ipython3",
      "version": "3.12.7"
    }
  },
  "nbformat": 4,
  "nbformat_minor": 0
}

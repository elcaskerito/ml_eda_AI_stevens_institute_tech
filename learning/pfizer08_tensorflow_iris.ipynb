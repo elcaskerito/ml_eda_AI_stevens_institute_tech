{
 "cells": [
  {
   "cell_type": "code",
   "execution_count": null,
   "id": "efe52708",
   "metadata": {},
   "outputs": [],
   "source": [
    "# pip install pydot"
   ]
  },
  {
   "cell_type": "code",
   "execution_count": null,
   "id": "0b54f2b2",
   "metadata": {},
   "outputs": [],
   "source": [
    "# pip install graphviz"
   ]
  },
  {
   "cell_type": "code",
   "execution_count": null,
   "id": "e9cc27db",
   "metadata": {
    "scrolled": false
   },
   "outputs": [],
   "source": [
    "# pip install --upgrade tensorflow\n"
   ]
  },
  {
   "cell_type": "code",
   "execution_count": null,
   "id": "e80eafef",
   "metadata": {},
   "outputs": [],
   "source": [
    "import tensorflow as tf\n",
    "print(tf.__version__)"
   ]
  },
  {
   "cell_type": "code",
   "execution_count": null,
   "id": "ab976d3c",
   "metadata": {},
   "outputs": [],
   "source": [
    "import seaborn as sns\n",
    "import pandas as pd\n",
    "import numpy as np\n",
    "\n",
    "from tensorflow.keras.layers import Dense, Dropout, Activation\n",
    "from tensorflow.keras.models import Model, Sequential\n",
    "from tensorflow.keras.optimizers import Adam"
   ]
  },
  {
   "cell_type": "code",
   "execution_count": null,
   "id": "52bf3c75",
   "metadata": {},
   "outputs": [],
   "source": [
    "## import dataset\n",
    "iris_data=sns.load_dataset('iris')\n",
    "iris_data.head()"
   ]
  },
  {
   "cell_type": "code",
   "execution_count": null,
   "id": "e79fc676",
   "metadata": {},
   "outputs": [],
   "source": [
    "attr=iris_data.drop(['species'],axis=1)\n",
    "target=pd.get_dummies(iris_data.species,prefix='ouput')\n",
    "print(attr.shape)\n",
    "print(target.shape)\n",
    "attr.head()\n",
    "target.head()"
   ]
  },
  {
   "cell_type": "code",
   "execution_count": null,
   "id": "cd0b011d",
   "metadata": {},
   "outputs": [],
   "source": [
    "attr.head()"
   ]
  },
  {
   "cell_type": "code",
   "execution_count": null,
   "id": "97d99836",
   "metadata": {},
   "outputs": [],
   "source": [
    "## convert the data frames to arrays\n",
    "X=attr.values\n",
    "y=target.values\n",
    "print(type(X))\n",
    "print(type(y))\n",
    "print(X.shape)\n",
    "print(y.shape)"
   ]
  },
  {
   "cell_type": "code",
   "execution_count": null,
   "id": "e098113f",
   "metadata": {},
   "outputs": [],
   "source": [
    " #creating test and training\n",
    "from sklearn.model_selection import train_test_split\n",
    "from sklearn.preprocessing import StandardScaler\n",
    "# x_train, x_test, y_train, y_test=train_test_split(x,y,test_size=.20,random_state=100)\n",
    "x_train, x_test, y_train, y_test=train_test_split(X,y,test_size=.20,random_state=100)\n",
    "sc=StandardScaler()\n",
    "x_train=sc.fit_transform(x_train)\n",
    "x_test=sc.fit_transform(x_test)\n",
    "print(x_train.shape)\n",
    "print(y_train.shape)\n",
    "print(x_test.shape)\n",
    "print(y_test.shape)"
   ]
  },
  {
   "cell_type": "code",
   "execution_count": null,
   "id": "5eb9fd35",
   "metadata": {},
   "outputs": [],
   "source": [
    "print(x_train.shape[1])"
   ]
  },
  {
   "cell_type": "code",
   "execution_count": null,
   "id": "4809fa43",
   "metadata": {},
   "outputs": [],
   "source": [
    "\n",
    "import tensorflow as tf\n",
    "from tensorflow.keras.models import Sequential\n",
    "from tensorflow.keras.layers import Dense, Dropout, Input\n",
    "from tensorflow.keras.optimizers import Adam\n",
    "\n",
    "dropout_rate = 0.1\n",
    "epochs = 50\n",
    "batch_size = 1\n",
    "learn_rate = 0.001\n",
    "\n",
    "model = Sequential()\n",
    "model.add(Input(shape=(x_train.shape[1],)))\n",
    "model.add(Dense(12, activation='relu'))\n",
    "model.add(Dropout(dropout_rate))\n",
    "model.add(Dense(6, activation='relu'))\n",
    "model.add(Dropout(dropout_rate))\n",
    "model.add(Dense(y_train.shape[1], activation='softmax'))\n",
    "\n",
    "adam = Adam(learning_rate=learn_rate)\n",
    "model.compile(loss='categorical_crossentropy', optimizer=adam, metrics=['accuracy'])\n",
    "\n"
   ]
  },
  {
   "cell_type": "code",
   "execution_count": null,
   "id": "0dad0834",
   "metadata": {},
   "outputs": [],
   "source": [
    "## you nee graphviz for ploting\n",
    "from tensorflow.keras.utils import plot_model\n",
    "# run in colab for graphviz plot\n",
    "plot_model(model,to_file='model_plot1.png',show_shapes=True, show_layer_names=True)"
   ]
  },
  {
   "cell_type": "code",
   "execution_count": null,
   "id": "847de5be",
   "metadata": {},
   "outputs": [],
   "source": [
    " model.summary"
   ]
  },
  {
   "cell_type": "code",
   "execution_count": null,
   "id": "c1f356c5",
   "metadata": {},
   "outputs": [],
   "source": [
    "model_history = model.fit(x_train,y_train, batch_size=batch_size,epochs=epochs,validation_split=.2,verbose=1)"
   ]
  },
  {
   "cell_type": "code",
   "execution_count": null,
   "id": "6c02dea0",
   "metadata": {
    "scrolled": true
   },
   "outputs": [],
   "source": [
    "accuracies = model.evaluate(x_test, y_test, verbose=1)\n",
    "print(\"Test score:\", accuracies[0])\n",
    "print(\"Test Accuracy;\", accuracies[1])"
   ]
  },
  {
   "cell_type": "code",
   "execution_count": null,
   "id": "38b5f49a",
   "metadata": {},
   "outputs": [],
   "source": [
    "# print(accuracies)"
   ]
  }
 ],
 "metadata": {
  "kernelspec": {
   "display_name": "Python 3 (ipykernel)",
   "language": "python",
   "name": "python3"
  },
  "language_info": {
   "codemirror_mode": {
    "name": "ipython",
    "version": 3
   },
   "file_extension": ".py",
   "mimetype": "text/x-python",
   "name": "python",
   "nbconvert_exporter": "python",
   "pygments_lexer": "ipython3",
   "version": "3.10.9"
  }
 },
 "nbformat": 4,
 "nbformat_minor": 5
}

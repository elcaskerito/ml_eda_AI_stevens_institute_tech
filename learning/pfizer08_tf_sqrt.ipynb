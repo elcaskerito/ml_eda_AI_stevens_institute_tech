{
 "cells": [
  {
   "cell_type": "code",
   "execution_count": null,
   "metadata": {},
   "outputs": [],
   "source": [
    "import numpy as np\n",
    "import pandas as pd\n",
    "import tensorflow as tf\n",
    "from tensorflow.keras import layers, models"
   ]
  },
  {
   "cell_type": "code",
   "execution_count": null,
   "metadata": {},
   "outputs": [],
   "source": [
    "# Generate training data by\n",
    "# Generating 1000 random numbers between 1 and 100\n",
    "random_numbers = np.random.randint(1, 101, size=10000)\n",
    "\n",
    "# Calculate the square root of the random numbers\n",
    "square_roots  = np.sqrt(random_numbers)\n",
    "\n",
    "# Create a DataFrame\n",
    "df_train= pd.DataFrame({\n",
    "    'input': random_numbers,\n",
    "    'target': square_roots\n",
    "})\n",
    "\n",
    "# Display the DataFrame\n",
    "df_train.head()"
   ]
  },
  {
   "cell_type": "code",
   "execution_count": null,
   "metadata": {},
   "outputs": [],
   "source": [
    "# Generate training data\n",
    "\n",
    "X_train=df_train['input']\n",
    "y_train=df_train['target']"
   ]
  },
  {
   "cell_type": "code",
   "execution_count": null,
   "metadata": {},
   "outputs": [],
   "source": [
    "from tensorflow.keras.models import Sequential\n",
    "from tensorflow.keras.layers import Dense, Input\n",
    "\n",
    "model = Sequential([\n",
    "    Input(shape=(1,)),  # Use an Input layer\n",
    "    Dense(10,activation='relu'),\n",
    "    Dense(1),\n",
    "   \n",
    "])\n",
    "\n",
    "\n",
    "# Compile the model\n",
    "model.compile(optimizer='adam', loss='mse')  # Mean squared error (MSE) as the loss function\n",
    "\n",
    "# Train the model\n",
    "model.fit(X_train, y_train, epochs=100, batch_size=32, verbose=0)  \n",
    "\n",
    "\n"
   ]
  },
  {
   "cell_type": "code",
   "execution_count": null,
   "metadata": {},
   "outputs": [],
   "source": [
    "import numpy as np\n",
    "df_test = pd.DataFrame({\n",
    "    'num': [1, 4, 9, 16,25,36,49,64,81],\n",
    "    'sqrt': [1, 2, 3, 4, 5, 6, 7, 8, 9]\n",
    "   })\n",
    "X_test = df_test['num']   \n",
    "y_test = df_test['sqrt']"
   ]
  },
  {
   "cell_type": "code",
   "execution_count": null,
   "metadata": {},
   "outputs": [],
   "source": [
    "# Test the model with a  input\n",
    "# test_input = np.array([1, 4, 9, 16,25,36,49,64,81])  # Example input (number to find the square root)\n",
    "predicted_sqrt= model.predict(X_test)\n",
    "\n",
    "print(predicted_sqrt)"
   ]
  },
  {
   "cell_type": "code",
   "execution_count": null,
   "metadata": {},
   "outputs": [],
   "source": [
    "df_predict=df_test\n",
    "df_predict['Predict']=predicted_sqrt \n",
    "# print(f\"Estimated square root of \\n {test_input}\")\n",
    "# print(f\"predicted_sqrt:{predicted_sqrt}\")\n",
    "df_predict.head(9)"
   ]
  },
  {
   "cell_type": "code",
   "execution_count": null,
   "metadata": {},
   "outputs": [],
   "source": [
    "\n",
    "\n",
    "    # Corresponding square roots\n"
   ]
  }
 ],
 "metadata": {
  "kernelspec": {
   "display_name": "Python 3 (ipykernel)",
   "language": "python",
   "name": "python3"
  },
  "language_info": {
   "codemirror_mode": {
    "name": "ipython",
    "version": 3
   },
   "file_extension": ".py",
   "mimetype": "text/x-python",
   "name": "python",
   "nbconvert_exporter": "python",
   "pygments_lexer": "ipython3",
   "version": "3.10.9"
  }
 },
 "nbformat": 4,
 "nbformat_minor": 2
}
